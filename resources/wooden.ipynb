{
  "nbformat": 4,
  "nbformat_minor": 0,
  "metadata": {
    "colab": {
      "provenance": []
    },
    "kernelspec": {
      "name": "python3",
      "display_name": "Python 3"
    },
    "language_info": {
      "name": "python"
    }
  },
  "cells": [
    {
      "cell_type": "code",
      "execution_count": 5,
      "metadata": {
        "id": "L2y789H1gc0W"
      },
      "outputs": [],
      "source": [
        "import numpy as np\n",
        "from IPython.display import HTML, display\n",
        "\n"
      ]
    },
    {
      "cell_type": "code",
      "source": [
        "A = np.array([[1, 1, 1],\n",
        "              [0, 1, 0]])\n",
        "\n",
        "B = np.array([[1, 1, 1],\n",
        "              [0, 1, 0]])\n",
        "\n",
        "C = np.array([[1, 1, 0],\n",
        "              [0, 1, 1]])\n",
        "\n",
        "D = np.array([[1, 1, 1],\n",
        "              [0, 0, 1],\n",
        "              [0, 0, 1]])\n",
        "\n",
        "E = np.array([[1, 1, 0],\n",
        "              [0, 1, 0],\n",
        "              [0, 1, 1]])\n",
        "\n",
        "\n"
      ],
      "metadata": {
        "id": "WnwS4PdFjXKo"
      },
      "execution_count": 6,
      "outputs": []
    },
    {
      "cell_type": "code",
      "source": [
        "\n",
        "def ones(np_array):\n",
        "    indices = np.where(np_array.flatten() == 1)[0]\n",
        "    return tuple(indices)\n",
        "\n",
        "\n",
        "class PuzzleSolver:\n",
        "    def __init__(self, pieces, width=6, height=4):\n",
        "        self.color_map = {\n",
        "            0: 'black',\n",
        "            1: 'red',\n",
        "            2: 'green',\n",
        "            3: 'yellow',\n",
        "            4: 'blue',\n",
        "            5: 'magenta',\n",
        "            6: 'white'\n",
        "        }\n",
        "\n",
        "        self.blank_board = np.zeros((height, width))\n",
        "        self.size = height * width\n",
        "        self.width = width\n",
        "        self.height = height\n",
        "        self.pieces = pieces\n",
        "        self.num_pieces = len(pieces)\n",
        "        self.oriented_pieces = []\n",
        "\n",
        "        def embed(piece):\n",
        "            embedded_piece = self.blank_board.copy()\n",
        "            embedded_piece[:piece.shape[0], :piece.shape[1]] = piece\n",
        "            return embedded_piece\n",
        "\n",
        "        for piece in pieces:\n",
        "            orientations = set()\n",
        "            orientations.add(ones(embed(piece)))\n",
        "            orientations.add(ones(embed(np.rot90(piece, k=1))))\n",
        "            orientations.add(ones(embed(np.rot90(piece, k=2))))\n",
        "            orientations.add(ones(embed(np.rot90(piece, k=3))))\n",
        "            orientations.add(ones(embed(piece.transpose())))\n",
        "            orientations.add(ones(embed(np.rot90(piece.transpose(), k=1))))\n",
        "            orientations.add(ones(embed(np.rot90(piece.transpose(), k=2))))\n",
        "            orientations.add(ones(embed(np.rot90(piece.transpose(), k=3))))\n",
        "            self.oriented_pieces.append(np.array(list(orientations)))\n",
        "\n",
        "    def print_colored_matrix(self, matrix):\n",
        "        reshaped_matrix = matrix.reshape((self.height, self.width))\n",
        "        html_output = \"<div style='font-family:monospace;'>\"\n",
        "\n",
        "        for row in reshaped_matrix:\n",
        "            html_output += \"<div>\"\n",
        "            for val in row:\n",
        "                color = self.color_map[val]\n",
        "                html_output += f\"<span style='color:{color};'>██</span>\"\n",
        "            html_output += \"</div>\"\n",
        "\n",
        "        html_output += \"</div>\"\n",
        "        display(HTML(html_output))\n",
        "\n",
        "    def print_colored_matrix_with_box(self, matrix):\n",
        "        reshaped_matrix = matrix.reshape((self.height, self.width))\n",
        "        html_output = \"<div style='font-family:monospace;'>\"\n",
        "\n",
        "        # Top border\n",
        "        html_output += \"<div>\" + \"<span style='color:white;'>██</span>\" * (self.width + 2) + \"</div>\"\n",
        "\n",
        "        for row in reshaped_matrix:\n",
        "            html_output += \"<div>\"\n",
        "            html_output += \"<span style='color:white;'>██</span>\"  # Left border\n",
        "            for val in row:\n",
        "                color = self.color_map[val]\n",
        "                html_output += f\"<span style='color:{color};'>██</span>\"\n",
        "            html_output += \"<span style='color:white;'>██</span>\"  # Right border\n",
        "            html_output += \"</div>\"\n",
        "\n",
        "        # Bottom border\n",
        "        html_output += \"<div>\" + \"<span style='color:white;'>██</span>\" + \"<span style='color:black;'>██</span>\"*2 + \"<span style='color:white;'>██</span>\"*(self.width-1) + \"</div>\"\n",
        "\n",
        "        html_output += \"</div><br>\"\n",
        "        display(HTML(html_output))\n",
        "\n",
        "    def valid(self, ind):\n",
        "        if max(ind) >= self.size:\n",
        "            return False\n",
        "        rightmost = max(ind % self.width)\n",
        "        leftmost = min(ind % self.width)\n",
        "        return rightmost - leftmost <= 2\n",
        "\n",
        "    def indicator(self, ind):\n",
        "        board = self.blank_board.flatten().copy()\n",
        "        board[ind] += 1\n",
        "        return board.copy()\n",
        "\n",
        "    def make_matrices(self):\n",
        "        self.matrices = []\n",
        "        num_pieces = len(self.oriented_pieces)\n",
        "\n",
        "        for m in range(num_pieces):\n",
        "            mini_matrix = self.oriented_pieces[m]\n",
        "            matrix = (m+1) * np.array([\n",
        "                self.indicator(mini_matrix[j, :] + i)\n",
        "                for j in range(mini_matrix.shape[0])\n",
        "                for i in range(self.size)\n",
        "                if self.valid(mini_matrix[j, :] + i)\n",
        "            ])\n",
        "            self.matrices.append(matrix)\n",
        "\n",
        "    def zip_up(self, A_mat, B_mat, same=False):\n",
        "        AB_prod = np.einsum('ji,ki->jk', A_mat, B_mat)\n",
        "        AB_list = []\n",
        "\n",
        "        for i in range(AB_prod.shape[0]):\n",
        "            j_range = i if same else AB_prod.shape[1]\n",
        "            for j in range(j_range):\n",
        "                if AB_prod[i, j] == 0:\n",
        "                    AB_list.append(A_mat[i, :] + B_mat[j, :])\n",
        "\n",
        "        return np.array(AB_list)\n",
        "\n",
        "    def find_arrangements(self):\n",
        "        A_mat, B_mat, C_mat, D_mat, E_mat = self.matrices\n",
        "        AB_mat = self.zip_up(A_mat, B_mat, same=True)\n",
        "        CD_mat = self.zip_up(C_mat, D_mat)\n",
        "        CDE_mat = self.zip_up(CD_mat, E_mat)\n",
        "        self.final_mat = self.zip_up(AB_mat, CDE_mat)\n",
        "\n",
        "    def show_arrangements(self, box=False):\n",
        "        self.num_arrangements = self.final_mat.shape[0]\n",
        "        for i in range(self.num_arrangements):\n",
        "            if not box:\n",
        "                self.print_colored_matrix(self.final_mat[i, :])\n",
        "            else:\n",
        "                self.print_colored_matrix_with_box(self.final_mat[i, :])\n",
        "\n",
        "    def print_summary(self):\n",
        "        print('Total number of arrangements:', self.num_arrangements)\n",
        "\n",
        "\n"
      ],
      "metadata": {
        "id": "F65lu8aEjXVl"
      },
      "execution_count": 7,
      "outputs": []
    },
    {
      "cell_type": "code",
      "source": [
        "\n",
        "mySolver = PuzzleSolver([A, B, C, D, E], width=6, height=4)\n",
        "mySolver.make_matrices()\n",
        "mySolver.find_arrangements()\n",
        "mySolver.show_arrangements(box=True)\n",
        "mySolver.print_summary()\n"
      ],
      "metadata": {
        "colab": {
          "base_uri": "https://localhost:8080/",
          "height": 1000
        },
        "id": "chQtCq5fjXbi",
        "outputId": "a124b473-ecdf-4b1e-bdb4-cc4db5478b82"
      },
      "execution_count": 8,
      "outputs": [
        {
          "output_type": "display_data",
          "data": {
            "text/plain": [
              "<IPython.core.display.HTML object>"
            ],
            "text/html": [
              "<div style='font-family:monospace;'><div><span style='color:white;'>██</span><span style='color:white;'>██</span><span style='color:white;'>██</span><span style='color:white;'>██</span><span style='color:white;'>██</span><span style='color:white;'>██</span><span style='color:white;'>██</span><span style='color:white;'>██</span></div><div><span style='color:white;'>██</span><span style='color:green;'>██</span><span style='color:green;'>██</span><span style='color:green;'>██</span><span style='color:red;'>██</span><span style='color:red;'>██</span><span style='color:red;'>██</span><span style='color:white;'>██</span></div><div><span style='color:white;'>██</span><span style='color:magenta;'>██</span><span style='color:green;'>██</span><span style='color:yellow;'>██</span><span style='color:yellow;'>██</span><span style='color:red;'>██</span><span style='color:blue;'>██</span><span style='color:white;'>██</span></div><div><span style='color:white;'>██</span><span style='color:magenta;'>██</span><span style='color:magenta;'>██</span><span style='color:magenta;'>██</span><span style='color:yellow;'>██</span><span style='color:yellow;'>██</span><span style='color:blue;'>██</span><span style='color:white;'>██</span></div><div><span style='color:white;'>██</span><span style='color:black;'>██</span><span style='color:black;'>██</span><span style='color:magenta;'>██</span><span style='color:blue;'>██</span><span style='color:blue;'>██</span><span style='color:blue;'>██</span><span style='color:white;'>██</span></div><div><span style='color:white;'>██</span><span style='color:black;'>██</span><span style='color:black;'>██</span><span style='color:white;'>██</span><span style='color:white;'>██</span><span style='color:white;'>██</span><span style='color:white;'>██</span><span style='color:white;'>██</span></div></div><br>"
            ]
          },
          "metadata": {}
        },
        {
          "output_type": "display_data",
          "data": {
            "text/plain": [
              "<IPython.core.display.HTML object>"
            ],
            "text/html": [
              "<div style='font-family:monospace;'><div><span style='color:white;'>██</span><span style='color:white;'>██</span><span style='color:white;'>██</span><span style='color:white;'>██</span><span style='color:white;'>██</span><span style='color:white;'>██</span><span style='color:white;'>██</span><span style='color:white;'>██</span></div><div><span style='color:white;'>██</span><span style='color:green;'>██</span><span style='color:green;'>██</span><span style='color:green;'>██</span><span style='color:red;'>██</span><span style='color:red;'>██</span><span style='color:red;'>██</span><span style='color:white;'>██</span></div><div><span style='color:white;'>██</span><span style='color:yellow;'>██</span><span style='color:green;'>██</span><span style='color:blue;'>██</span><span style='color:magenta;'>██</span><span style='color:red;'>██</span><span style='color:black;'>██</span><span style='color:white;'>██</span></div><div><span style='color:white;'>██</span><span style='color:yellow;'>██</span><span style='color:yellow;'>██</span><span style='color:blue;'>██</span><span style='color:magenta;'>██</span><span style='color:magenta;'>██</span><span style='color:magenta;'>██</span><span style='color:white;'>██</span></div><div><span style='color:white;'>██</span><span style='color:black;'>██</span><span style='color:yellow;'>██</span><span style='color:blue;'>██</span><span style='color:blue;'>██</span><span style='color:blue;'>██</span><span style='color:magenta;'>██</span><span style='color:white;'>██</span></div><div><span style='color:white;'>██</span><span style='color:black;'>██</span><span style='color:black;'>██</span><span style='color:white;'>██</span><span style='color:white;'>██</span><span style='color:white;'>██</span><span style='color:white;'>██</span><span style='color:white;'>██</span></div></div><br>"
            ]
          },
          "metadata": {}
        },
        {
          "output_type": "display_data",
          "data": {
            "text/plain": [
              "<IPython.core.display.HTML object>"
            ],
            "text/html": [
              "<div style='font-family:monospace;'><div><span style='color:white;'>██</span><span style='color:white;'>██</span><span style='color:white;'>██</span><span style='color:white;'>██</span><span style='color:white;'>██</span><span style='color:white;'>██</span><span style='color:white;'>██</span><span style='color:white;'>██</span></div><div><span style='color:white;'>██</span><span style='color:green;'>██</span><span style='color:green;'>██</span><span style='color:green;'>██</span><span style='color:red;'>██</span><span style='color:red;'>██</span><span style='color:red;'>██</span><span style='color:white;'>██</span></div><div><span style='color:white;'>██</span><span style='color:black;'>██</span><span style='color:green;'>██</span><span style='color:magenta;'>██</span><span style='color:blue;'>██</span><span style='color:red;'>██</span><span style='color:yellow;'>██</span><span style='color:white;'>██</span></div><div><span style='color:white;'>██</span><span style='color:magenta;'>██</span><span style='color:magenta;'>██</span><span style='color:magenta;'>██</span><span style='color:blue;'>██</span><span style='color:yellow;'>██</span><span style='color:yellow;'>██</span><span style='color:white;'>██</span></div><div><span style='color:white;'>██</span><span style='color:magenta;'>██</span><span style='color:blue;'>██</span><span style='color:blue;'>██</span><span style='color:blue;'>██</span><span style='color:yellow;'>██</span><span style='color:black;'>██</span><span style='color:white;'>██</span></div><div><span style='color:white;'>██</span><span style='color:black;'>██</span><span style='color:black;'>██</span><span style='color:white;'>██</span><span style='color:white;'>██</span><span style='color:white;'>██</span><span style='color:white;'>██</span><span style='color:white;'>██</span></div></div><br>"
            ]
          },
          "metadata": {}
        },
        {
          "output_type": "display_data",
          "data": {
            "text/plain": [
              "<IPython.core.display.HTML object>"
            ],
            "text/html": [
              "<div style='font-family:monospace;'><div><span style='color:white;'>██</span><span style='color:white;'>██</span><span style='color:white;'>██</span><span style='color:white;'>██</span><span style='color:white;'>██</span><span style='color:white;'>██</span><span style='color:white;'>██</span><span style='color:white;'>██</span></div><div><span style='color:white;'>██</span><span style='color:green;'>██</span><span style='color:green;'>██</span><span style='color:green;'>██</span><span style='color:red;'>██</span><span style='color:red;'>██</span><span style='color:red;'>██</span><span style='color:white;'>██</span></div><div><span style='color:white;'>██</span><span style='color:blue;'>██</span><span style='color:green;'>██</span><span style='color:yellow;'>██</span><span style='color:yellow;'>██</span><span style='color:red;'>██</span><span style='color:magenta;'>██</span><span style='color:white;'>██</span></div><div><span style='color:white;'>██</span><span style='color:blue;'>██</span><span style='color:yellow;'>██</span><span style='color:yellow;'>██</span><span style='color:magenta;'>██</span><span style='color:magenta;'>██</span><span style='color:magenta;'>██</span><span style='color:white;'>██</span></div><div><span style='color:white;'>██</span><span style='color:blue;'>██</span><span style='color:blue;'>██</span><span style='color:blue;'>██</span><span style='color:magenta;'>██</span><span style='color:black;'>██</span><span style='color:black;'>██</span><span style='color:white;'>██</span></div><div><span style='color:white;'>██</span><span style='color:black;'>██</span><span style='color:black;'>██</span><span style='color:white;'>██</span><span style='color:white;'>██</span><span style='color:white;'>██</span><span style='color:white;'>██</span><span style='color:white;'>██</span></div></div><br>"
            ]
          },
          "metadata": {}
        },
        {
          "output_type": "display_data",
          "data": {
            "text/plain": [
              "<IPython.core.display.HTML object>"
            ],
            "text/html": [
              "<div style='font-family:monospace;'><div><span style='color:white;'>██</span><span style='color:white;'>██</span><span style='color:white;'>██</span><span style='color:white;'>██</span><span style='color:white;'>██</span><span style='color:white;'>██</span><span style='color:white;'>██</span><span style='color:white;'>██</span></div><div><span style='color:white;'>██</span><span style='color:red;'>██</span><span style='color:green;'>██</span><span style='color:green;'>██</span><span style='color:green;'>██</span><span style='color:magenta;'>██</span><span style='color:magenta;'>██</span><span style='color:white;'>██</span></div><div><span style='color:white;'>██</span><span style='color:red;'>██</span><span style='color:red;'>██</span><span style='color:green;'>██</span><span style='color:black;'>██</span><span style='color:magenta;'>██</span><span style='color:blue;'>██</span><span style='color:white;'>██</span></div><div><span style='color:white;'>██</span><span style='color:red;'>██</span><span style='color:yellow;'>██</span><span style='color:yellow;'>██</span><span style='color:magenta;'>██</span><span style='color:magenta;'>██</span><span style='color:blue;'>██</span><span style='color:white;'>██</span></div><div><span style='color:white;'>██</span><span style='color:yellow;'>██</span><span style='color:yellow;'>██</span><span style='color:black;'>██</span><span style='color:blue;'>██</span><span style='color:blue;'>██</span><span style='color:blue;'>██</span><span style='color:white;'>██</span></div><div><span style='color:white;'>██</span><span style='color:black;'>██</span><span style='color:black;'>██</span><span style='color:white;'>██</span><span style='color:white;'>██</span><span style='color:white;'>██</span><span style='color:white;'>██</span><span style='color:white;'>██</span></div></div><br>"
            ]
          },
          "metadata": {}
        },
        {
          "output_type": "display_data",
          "data": {
            "text/plain": [
              "<IPython.core.display.HTML object>"
            ],
            "text/html": [
              "<div style='font-family:monospace;'><div><span style='color:white;'>██</span><span style='color:white;'>██</span><span style='color:white;'>██</span><span style='color:white;'>██</span><span style='color:white;'>██</span><span style='color:white;'>██</span><span style='color:white;'>██</span><span style='color:white;'>██</span></div><div><span style='color:white;'>██</span><span style='color:green;'>██</span><span style='color:green;'>██</span><span style='color:green;'>██</span><span style='color:yellow;'>██</span><span style='color:yellow;'>██</span><span style='color:black;'>██</span><span style='color:white;'>██</span></div><div><span style='color:white;'>██</span><span style='color:red;'>██</span><span style='color:green;'>██</span><span style='color:blue;'>██</span><span style='color:magenta;'>██</span><span style='color:yellow;'>██</span><span style='color:yellow;'>██</span><span style='color:white;'>██</span></div><div><span style='color:white;'>██</span><span style='color:red;'>██</span><span style='color:red;'>██</span><span style='color:blue;'>██</span><span style='color:magenta;'>██</span><span style='color:magenta;'>██</span><span style='color:magenta;'>██</span><span style='color:white;'>██</span></div><div><span style='color:white;'>██</span><span style='color:red;'>██</span><span style='color:black;'>██</span><span style='color:blue;'>██</span><span style='color:blue;'>██</span><span style='color:blue;'>██</span><span style='color:magenta;'>██</span><span style='color:white;'>██</span></div><div><span style='color:white;'>██</span><span style='color:black;'>██</span><span style='color:black;'>██</span><span style='color:white;'>██</span><span style='color:white;'>██</span><span style='color:white;'>██</span><span style='color:white;'>██</span><span style='color:white;'>██</span></div></div><br>"
            ]
          },
          "metadata": {}
        },
        {
          "output_type": "display_data",
          "data": {
            "text/plain": [
              "<IPython.core.display.HTML object>"
            ],
            "text/html": [
              "<div style='font-family:monospace;'><div><span style='color:white;'>██</span><span style='color:white;'>██</span><span style='color:white;'>██</span><span style='color:white;'>██</span><span style='color:white;'>██</span><span style='color:white;'>██</span><span style='color:white;'>██</span><span style='color:white;'>██</span></div><div><span style='color:white;'>██</span><span style='color:green;'>██</span><span style='color:green;'>██</span><span style='color:green;'>██</span><span style='color:blue;'>██</span><span style='color:blue;'>██</span><span style='color:blue;'>██</span><span style='color:white;'>██</span></div><div><span style='color:white;'>██</span><span style='color:red;'>██</span><span style='color:green;'>██</span><span style='color:magenta;'>██</span><span style='color:magenta;'>██</span><span style='color:black;'>██</span><span style='color:blue;'>██</span><span style='color:white;'>██</span></div><div><span style='color:white;'>██</span><span style='color:red;'>██</span><span style='color:red;'>██</span><span style='color:magenta;'>██</span><span style='color:yellow;'>██</span><span style='color:yellow;'>██</span><span style='color:blue;'>██</span><span style='color:white;'>██</span></div><div><span style='color:white;'>██</span><span style='color:red;'>██</span><span style='color:magenta;'>██</span><span style='color:magenta;'>██</span><span style='color:black;'>██</span><span style='color:yellow;'>██</span><span style='color:yellow;'>██</span><span style='color:white;'>██</span></div><div><span style='color:white;'>██</span><span style='color:black;'>██</span><span style='color:black;'>██</span><span style='color:white;'>██</span><span style='color:white;'>██</span><span style='color:white;'>██</span><span style='color:white;'>██</span><span style='color:white;'>██</span></div></div><br>"
            ]
          },
          "metadata": {}
        },
        {
          "output_type": "display_data",
          "data": {
            "text/plain": [
              "<IPython.core.display.HTML object>"
            ],
            "text/html": [
              "<div style='font-family:monospace;'><div><span style='color:white;'>██</span><span style='color:white;'>██</span><span style='color:white;'>██</span><span style='color:white;'>██</span><span style='color:white;'>██</span><span style='color:white;'>██</span><span style='color:white;'>██</span><span style='color:white;'>██</span></div><div><span style='color:white;'>██</span><span style='color:green;'>██</span><span style='color:green;'>██</span><span style='color:green;'>██</span><span style='color:blue;'>██</span><span style='color:blue;'>██</span><span style='color:blue;'>██</span><span style='color:white;'>██</span></div><div><span style='color:white;'>██</span><span style='color:red;'>██</span><span style='color:green;'>██</span><span style='color:yellow;'>██</span><span style='color:magenta;'>██</span><span style='color:magenta;'>██</span><span style='color:blue;'>██</span><span style='color:white;'>██</span></div><div><span style='color:white;'>██</span><span style='color:red;'>██</span><span style='color:red;'>██</span><span style='color:yellow;'>██</span><span style='color:yellow;'>██</span><span style='color:magenta;'>██</span><span style='color:blue;'>██</span><span style='color:white;'>██</span></div><div><span style='color:white;'>██</span><span style='color:red;'>██</span><span style='color:black;'>██</span><span style='color:black;'>██</span><span style='color:yellow;'>██</span><span style='color:magenta;'>██</span><span style='color:magenta;'>██</span><span style='color:white;'>██</span></div><div><span style='color:white;'>██</span><span style='color:black;'>██</span><span style='color:black;'>██</span><span style='color:white;'>██</span><span style='color:white;'>██</span><span style='color:white;'>██</span><span style='color:white;'>██</span><span style='color:white;'>██</span></div></div><br>"
            ]
          },
          "metadata": {}
        },
        {
          "output_type": "display_data",
          "data": {
            "text/plain": [
              "<IPython.core.display.HTML object>"
            ],
            "text/html": [
              "<div style='font-family:monospace;'><div><span style='color:white;'>██</span><span style='color:white;'>██</span><span style='color:white;'>██</span><span style='color:white;'>██</span><span style='color:white;'>██</span><span style='color:white;'>██</span><span style='color:white;'>██</span><span style='color:white;'>██</span></div><div><span style='color:white;'>██</span><span style='color:green;'>██</span><span style='color:green;'>██</span><span style='color:green;'>██</span><span style='color:yellow;'>██</span><span style='color:magenta;'>██</span><span style='color:magenta;'>██</span><span style='color:white;'>██</span></div><div><span style='color:white;'>██</span><span style='color:red;'>██</span><span style='color:green;'>██</span><span style='color:yellow;'>██</span><span style='color:yellow;'>██</span><span style='color:magenta;'>██</span><span style='color:blue;'>██</span><span style='color:white;'>██</span></div><div><span style='color:white;'>██</span><span style='color:red;'>██</span><span style='color:red;'>██</span><span style='color:yellow;'>██</span><span style='color:magenta;'>██</span><span style='color:magenta;'>██</span><span style='color:blue;'>██</span><span style='color:white;'>██</span></div><div><span style='color:white;'>██</span><span style='color:red;'>██</span><span style='color:black;'>██</span><span style='color:black;'>██</span><span style='color:blue;'>██</span><span style='color:blue;'>██</span><span style='color:blue;'>██</span><span style='color:white;'>██</span></div><div><span style='color:white;'>██</span><span style='color:black;'>██</span><span style='color:black;'>██</span><span style='color:white;'>██</span><span style='color:white;'>██</span><span style='color:white;'>██</span><span style='color:white;'>██</span><span style='color:white;'>██</span></div></div><br>"
            ]
          },
          "metadata": {}
        },
        {
          "output_type": "display_data",
          "data": {
            "text/plain": [
              "<IPython.core.display.HTML object>"
            ],
            "text/html": [
              "<div style='font-family:monospace;'><div><span style='color:white;'>██</span><span style='color:white;'>██</span><span style='color:white;'>██</span><span style='color:white;'>██</span><span style='color:white;'>██</span><span style='color:white;'>██</span><span style='color:white;'>██</span><span style='color:white;'>██</span></div><div><span style='color:white;'>██</span><span style='color:green;'>██</span><span style='color:green;'>██</span><span style='color:green;'>██</span><span style='color:blue;'>██</span><span style='color:blue;'>██</span><span style='color:blue;'>██</span><span style='color:white;'>██</span></div><div><span style='color:white;'>██</span><span style='color:red;'>██</span><span style='color:green;'>██</span><span style='color:magenta;'>██</span><span style='color:magenta;'>██</span><span style='color:yellow;'>██</span><span style='color:blue;'>██</span><span style='color:white;'>██</span></div><div><span style='color:white;'>██</span><span style='color:red;'>██</span><span style='color:red;'>██</span><span style='color:magenta;'>██</span><span style='color:yellow;'>██</span><span style='color:yellow;'>██</span><span style='color:blue;'>██</span><span style='color:white;'>██</span></div><div><span style='color:white;'>██</span><span style='color:red;'>██</span><span style='color:magenta;'>██</span><span style='color:magenta;'>██</span><span style='color:yellow;'>██</span><span style='color:black;'>██</span><span style='color:black;'>██</span><span style='color:white;'>██</span></div><div><span style='color:white;'>██</span><span style='color:black;'>██</span><span style='color:black;'>██</span><span style='color:white;'>██</span><span style='color:white;'>██</span><span style='color:white;'>██</span><span style='color:white;'>██</span><span style='color:white;'>██</span></div></div><br>"
            ]
          },
          "metadata": {}
        },
        {
          "output_type": "display_data",
          "data": {
            "text/plain": [
              "<IPython.core.display.HTML object>"
            ],
            "text/html": [
              "<div style='font-family:monospace;'><div><span style='color:white;'>██</span><span style='color:white;'>██</span><span style='color:white;'>██</span><span style='color:white;'>██</span><span style='color:white;'>██</span><span style='color:white;'>██</span><span style='color:white;'>██</span><span style='color:white;'>██</span></div><div><span style='color:white;'>██</span><span style='color:green;'>██</span><span style='color:green;'>██</span><span style='color:green;'>██</span><span style='color:yellow;'>██</span><span style='color:yellow;'>██</span><span style='color:black;'>██</span><span style='color:white;'>██</span></div><div><span style='color:white;'>██</span><span style='color:red;'>██</span><span style='color:green;'>██</span><span style='color:yellow;'>██</span><span style='color:yellow;'>██</span><span style='color:magenta;'>██</span><span style='color:blue;'>██</span><span style='color:white;'>██</span></div><div><span style='color:white;'>██</span><span style='color:red;'>██</span><span style='color:red;'>██</span><span style='color:magenta;'>██</span><span style='color:magenta;'>██</span><span style='color:magenta;'>██</span><span style='color:blue;'>██</span><span style='color:white;'>██</span></div><div><span style='color:white;'>██</span><span style='color:red;'>██</span><span style='color:black;'>██</span><span style='color:magenta;'>██</span><span style='color:blue;'>██</span><span style='color:blue;'>██</span><span style='color:blue;'>██</span><span style='color:white;'>██</span></div><div><span style='color:white;'>██</span><span style='color:black;'>██</span><span style='color:black;'>██</span><span style='color:white;'>██</span><span style='color:white;'>██</span><span style='color:white;'>██</span><span style='color:white;'>██</span><span style='color:white;'>██</span></div></div><br>"
            ]
          },
          "metadata": {}
        },
        {
          "output_type": "display_data",
          "data": {
            "text/plain": [
              "<IPython.core.display.HTML object>"
            ],
            "text/html": [
              "<div style='font-family:monospace;'><div><span style='color:white;'>██</span><span style='color:white;'>██</span><span style='color:white;'>██</span><span style='color:white;'>██</span><span style='color:white;'>██</span><span style='color:white;'>██</span><span style='color:white;'>██</span><span style='color:white;'>██</span></div><div><span style='color:white;'>██</span><span style='color:green;'>██</span><span style='color:green;'>██</span><span style='color:green;'>██</span><span style='color:blue;'>██</span><span style='color:blue;'>██</span><span style='color:blue;'>██</span><span style='color:white;'>██</span></div><div><span style='color:white;'>██</span><span style='color:red;'>██</span><span style='color:green;'>██</span><span style='color:black;'>██</span><span style='color:magenta;'>██</span><span style='color:magenta;'>██</span><span style='color:blue;'>██</span><span style='color:white;'>██</span></div><div><span style='color:white;'>██</span><span style='color:red;'>██</span><span style='color:red;'>██</span><span style='color:yellow;'>██</span><span style='color:yellow;'>██</span><span style='color:magenta;'>██</span><span style='color:blue;'>██</span><span style='color:white;'>██</span></div><div><span style='color:white;'>██</span><span style='color:red;'>██</span><span style='color:yellow;'>██</span><span style='color:yellow;'>██</span><span style='color:black;'>██</span><span style='color:magenta;'>██</span><span style='color:magenta;'>██</span><span style='color:white;'>██</span></div><div><span style='color:white;'>██</span><span style='color:black;'>██</span><span style='color:black;'>██</span><span style='color:white;'>██</span><span style='color:white;'>██</span><span style='color:white;'>██</span><span style='color:white;'>██</span><span style='color:white;'>██</span></div></div><br>"
            ]
          },
          "metadata": {}
        },
        {
          "output_type": "display_data",
          "data": {
            "text/plain": [
              "<IPython.core.display.HTML object>"
            ],
            "text/html": [
              "<div style='font-family:monospace;'><div><span style='color:white;'>██</span><span style='color:white;'>██</span><span style='color:white;'>██</span><span style='color:white;'>██</span><span style='color:white;'>██</span><span style='color:white;'>██</span><span style='color:white;'>██</span><span style='color:white;'>██</span></div><div><span style='color:white;'>██</span><span style='color:yellow;'>██</span><span style='color:yellow;'>██</span><span style='color:green;'>██</span><span style='color:green;'>██</span><span style='color:green;'>██</span><span style='color:black;'>██</span><span style='color:white;'>██</span></div><div><span style='color:white;'>██</span><span style='color:red;'>██</span><span style='color:yellow;'>██</span><span style='color:yellow;'>██</span><span style='color:green;'>██</span><span style='color:magenta;'>██</span><span style='color:blue;'>██</span><span style='color:white;'>██</span></div><div><span style='color:white;'>██</span><span style='color:red;'>██</span><span style='color:red;'>██</span><span style='color:magenta;'>██</span><span style='color:magenta;'>██</span><span style='color:magenta;'>██</span><span style='color:blue;'>██</span><span style='color:white;'>██</span></div><div><span style='color:white;'>██</span><span style='color:red;'>██</span><span style='color:black;'>██</span><span style='color:magenta;'>██</span><span style='color:blue;'>██</span><span style='color:blue;'>██</span><span style='color:blue;'>██</span><span style='color:white;'>██</span></div><div><span style='color:white;'>██</span><span style='color:black;'>██</span><span style='color:black;'>██</span><span style='color:white;'>██</span><span style='color:white;'>██</span><span style='color:white;'>██</span><span style='color:white;'>██</span><span style='color:white;'>██</span></div></div><br>"
            ]
          },
          "metadata": {}
        },
        {
          "output_type": "display_data",
          "data": {
            "text/plain": [
              "<IPython.core.display.HTML object>"
            ],
            "text/html": [
              "<div style='font-family:monospace;'><div><span style='color:white;'>██</span><span style='color:white;'>██</span><span style='color:white;'>██</span><span style='color:white;'>██</span><span style='color:white;'>██</span><span style='color:white;'>██</span><span style='color:white;'>██</span><span style='color:white;'>██</span></div><div><span style='color:white;'>██</span><span style='color:green;'>██</span><span style='color:green;'>██</span><span style='color:green;'>██</span><span style='color:blue;'>██</span><span style='color:blue;'>██</span><span style='color:blue;'>██</span><span style='color:white;'>██</span></div><div><span style='color:white;'>██</span><span style='color:yellow;'>██</span><span style='color:green;'>██</span><span style='color:red;'>██</span><span style='color:magenta;'>██</span><span style='color:magenta;'>██</span><span style='color:blue;'>██</span><span style='color:white;'>██</span></div><div><span style='color:white;'>██</span><span style='color:yellow;'>██</span><span style='color:yellow;'>██</span><span style='color:red;'>██</span><span style='color:red;'>██</span><span style='color:magenta;'>██</span><span style='color:blue;'>██</span><span style='color:white;'>██</span></div><div><span style='color:white;'>██</span><span style='color:black;'>██</span><span style='color:yellow;'>██</span><span style='color:red;'>██</span><span style='color:black;'>██</span><span style='color:magenta;'>██</span><span style='color:magenta;'>██</span><span style='color:white;'>██</span></div><div><span style='color:white;'>██</span><span style='color:black;'>██</span><span style='color:black;'>██</span><span style='color:white;'>██</span><span style='color:white;'>██</span><span style='color:white;'>██</span><span style='color:white;'>██</span><span style='color:white;'>██</span></div></div><br>"
            ]
          },
          "metadata": {}
        },
        {
          "output_type": "display_data",
          "data": {
            "text/plain": [
              "<IPython.core.display.HTML object>"
            ],
            "text/html": [
              "<div style='font-family:monospace;'><div><span style='color:white;'>██</span><span style='color:white;'>██</span><span style='color:white;'>██</span><span style='color:white;'>██</span><span style='color:white;'>██</span><span style='color:white;'>██</span><span style='color:white;'>██</span><span style='color:white;'>██</span></div><div><span style='color:white;'>██</span><span style='color:magenta;'>██</span><span style='color:magenta;'>██</span><span style='color:green;'>██</span><span style='color:green;'>██</span><span style='color:green;'>██</span><span style='color:red;'>██</span><span style='color:white;'>██</span></div><div><span style='color:white;'>██</span><span style='color:blue;'>██</span><span style='color:magenta;'>██</span><span style='color:black;'>██</span><span style='color:green;'>██</span><span style='color:red;'>██</span><span style='color:red;'>██</span><span style='color:white;'>██</span></div><div><span style='color:white;'>██</span><span style='color:blue;'>██</span><span style='color:magenta;'>██</span><span style='color:magenta;'>██</span><span style='color:yellow;'>██</span><span style='color:yellow;'>██</span><span style='color:red;'>██</span><span style='color:white;'>██</span></div><div><span style='color:white;'>██</span><span style='color:blue;'>██</span><span style='color:blue;'>██</span><span style='color:blue;'>██</span><span style='color:black;'>██</span><span style='color:yellow;'>██</span><span style='color:yellow;'>██</span><span style='color:white;'>██</span></div><div><span style='color:white;'>██</span><span style='color:black;'>██</span><span style='color:black;'>██</span><span style='color:white;'>██</span><span style='color:white;'>██</span><span style='color:white;'>██</span><span style='color:white;'>██</span><span style='color:white;'>██</span></div></div><br>"
            ]
          },
          "metadata": {}
        },
        {
          "output_type": "display_data",
          "data": {
            "text/plain": [
              "<IPython.core.display.HTML object>"
            ],
            "text/html": [
              "<div style='font-family:monospace;'><div><span style='color:white;'>██</span><span style='color:white;'>██</span><span style='color:white;'>██</span><span style='color:white;'>██</span><span style='color:white;'>██</span><span style='color:white;'>██</span><span style='color:white;'>██</span><span style='color:white;'>██</span></div><div><span style='color:white;'>██</span><span style='color:blue;'>██</span><span style='color:blue;'>██</span><span style='color:blue;'>██</span><span style='color:green;'>██</span><span style='color:green;'>██</span><span style='color:green;'>██</span><span style='color:white;'>██</span></div><div><span style='color:white;'>██</span><span style='color:blue;'>██</span><span style='color:magenta;'>██</span><span style='color:magenta;'>██</span><span style='color:red;'>██</span><span style='color:green;'>██</span><span style='color:yellow;'>██</span><span style='color:white;'>██</span></div><div><span style='color:white;'>██</span><span style='color:blue;'>██</span><span style='color:magenta;'>██</span><span style='color:red;'>██</span><span style='color:red;'>██</span><span style='color:yellow;'>██</span><span style='color:yellow;'>██</span><span style='color:white;'>██</span></div><div><span style='color:white;'>██</span><span style='color:magenta;'>██</span><span style='color:magenta;'>██</span><span style='color:black;'>██</span><span style='color:red;'>██</span><span style='color:yellow;'>██</span><span style='color:black;'>██</span><span style='color:white;'>██</span></div><div><span style='color:white;'>██</span><span style='color:black;'>██</span><span style='color:black;'>██</span><span style='color:white;'>██</span><span style='color:white;'>██</span><span style='color:white;'>██</span><span style='color:white;'>██</span><span style='color:white;'>██</span></div></div><br>"
            ]
          },
          "metadata": {}
        },
        {
          "output_type": "display_data",
          "data": {
            "text/plain": [
              "<IPython.core.display.HTML object>"
            ],
            "text/html": [
              "<div style='font-family:monospace;'><div><span style='color:white;'>██</span><span style='color:white;'>██</span><span style='color:white;'>██</span><span style='color:white;'>██</span><span style='color:white;'>██</span><span style='color:white;'>██</span><span style='color:white;'>██</span><span style='color:white;'>██</span></div><div><span style='color:white;'>██</span><span style='color:black;'>██</span><span style='color:green;'>██</span><span style='color:green;'>██</span><span style='color:green;'>██</span><span style='color:yellow;'>██</span><span style='color:yellow;'>██</span><span style='color:white;'>██</span></div><div><span style='color:white;'>██</span><span style='color:blue;'>██</span><span style='color:magenta;'>██</span><span style='color:green;'>██</span><span style='color:yellow;'>██</span><span style='color:yellow;'>██</span><span style='color:red;'>██</span><span style='color:white;'>██</span></div><div><span style='color:white;'>██</span><span style='color:blue;'>██</span><span style='color:magenta;'>██</span><span style='color:magenta;'>██</span><span style='color:magenta;'>██</span><span style='color:red;'>██</span><span style='color:red;'>██</span><span style='color:white;'>██</span></div><div><span style='color:white;'>██</span><span style='color:blue;'>██</span><span style='color:blue;'>██</span><span style='color:blue;'>██</span><span style='color:magenta;'>██</span><span style='color:black;'>██</span><span style='color:red;'>██</span><span style='color:white;'>██</span></div><div><span style='color:white;'>██</span><span style='color:black;'>██</span><span style='color:black;'>██</span><span style='color:white;'>██</span><span style='color:white;'>██</span><span style='color:white;'>██</span><span style='color:white;'>██</span><span style='color:white;'>██</span></div></div><br>"
            ]
          },
          "metadata": {}
        },
        {
          "output_type": "display_data",
          "data": {
            "text/plain": [
              "<IPython.core.display.HTML object>"
            ],
            "text/html": [
              "<div style='font-family:monospace;'><div><span style='color:white;'>██</span><span style='color:white;'>██</span><span style='color:white;'>██</span><span style='color:white;'>██</span><span style='color:white;'>██</span><span style='color:white;'>██</span><span style='color:white;'>██</span><span style='color:white;'>██</span></div><div><span style='color:white;'>██</span><span style='color:black;'>██</span><span style='color:yellow;'>██</span><span style='color:yellow;'>██</span><span style='color:green;'>██</span><span style='color:green;'>██</span><span style='color:green;'>██</span><span style='color:white;'>██</span></div><div><span style='color:white;'>██</span><span style='color:blue;'>██</span><span style='color:magenta;'>██</span><span style='color:yellow;'>██</span><span style='color:yellow;'>██</span><span style='color:green;'>██</span><span style='color:red;'>██</span><span style='color:white;'>██</span></div><div><span style='color:white;'>██</span><span style='color:blue;'>██</span><span style='color:magenta;'>██</span><span style='color:magenta;'>██</span><span style='color:magenta;'>██</span><span style='color:red;'>██</span><span style='color:red;'>██</span><span style='color:white;'>██</span></div><div><span style='color:white;'>██</span><span style='color:blue;'>██</span><span style='color:blue;'>██</span><span style='color:blue;'>██</span><span style='color:magenta;'>██</span><span style='color:black;'>██</span><span style='color:red;'>██</span><span style='color:white;'>██</span></div><div><span style='color:white;'>██</span><span style='color:black;'>██</span><span style='color:black;'>██</span><span style='color:white;'>██</span><span style='color:white;'>██</span><span style='color:white;'>██</span><span style='color:white;'>██</span><span style='color:white;'>██</span></div></div><br>"
            ]
          },
          "metadata": {}
        },
        {
          "output_type": "display_data",
          "data": {
            "text/plain": [
              "<IPython.core.display.HTML object>"
            ],
            "text/html": [
              "<div style='font-family:monospace;'><div><span style='color:white;'>██</span><span style='color:white;'>██</span><span style='color:white;'>██</span><span style='color:white;'>██</span><span style='color:white;'>██</span><span style='color:white;'>██</span><span style='color:white;'>██</span><span style='color:white;'>██</span></div><div><span style='color:white;'>██</span><span style='color:blue;'>██</span><span style='color:blue;'>██</span><span style='color:blue;'>██</span><span style='color:green;'>██</span><span style='color:green;'>██</span><span style='color:green;'>██</span><span style='color:white;'>██</span></div><div><span style='color:white;'>██</span><span style='color:blue;'>██</span><span style='color:magenta;'>██</span><span style='color:magenta;'>██</span><span style='color:black;'>██</span><span style='color:green;'>██</span><span style='color:red;'>██</span><span style='color:white;'>██</span></div><div><span style='color:white;'>██</span><span style='color:blue;'>██</span><span style='color:magenta;'>██</span><span style='color:yellow;'>██</span><span style='color:yellow;'>██</span><span style='color:red;'>██</span><span style='color:red;'>██</span><span style='color:white;'>██</span></div><div><span style='color:white;'>██</span><span style='color:magenta;'>██</span><span style='color:magenta;'>██</span><span style='color:black;'>██</span><span style='color:yellow;'>██</span><span style='color:yellow;'>██</span><span style='color:red;'>██</span><span style='color:white;'>██</span></div><div><span style='color:white;'>██</span><span style='color:black;'>██</span><span style='color:black;'>██</span><span style='color:white;'>██</span><span style='color:white;'>██</span><span style='color:white;'>██</span><span style='color:white;'>██</span><span style='color:white;'>██</span></div></div><br>"
            ]
          },
          "metadata": {}
        },
        {
          "output_type": "display_data",
          "data": {
            "text/plain": [
              "<IPython.core.display.HTML object>"
            ],
            "text/html": [
              "<div style='font-family:monospace;'><div><span style='color:white;'>██</span><span style='color:white;'>██</span><span style='color:white;'>██</span><span style='color:white;'>██</span><span style='color:white;'>██</span><span style='color:white;'>██</span><span style='color:white;'>██</span><span style='color:white;'>██</span></div><div><span style='color:white;'>██</span><span style='color:magenta;'>██</span><span style='color:magenta;'>██</span><span style='color:yellow;'>██</span><span style='color:green;'>██</span><span style='color:green;'>██</span><span style='color:green;'>██</span><span style='color:white;'>██</span></div><div><span style='color:white;'>██</span><span style='color:blue;'>██</span><span style='color:magenta;'>██</span><span style='color:yellow;'>██</span><span style='color:yellow;'>██</span><span style='color:green;'>██</span><span style='color:red;'>██</span><span style='color:white;'>██</span></div><div><span style='color:white;'>██</span><span style='color:blue;'>██</span><span style='color:magenta;'>██</span><span style='color:magenta;'>██</span><span style='color:yellow;'>██</span><span style='color:red;'>██</span><span style='color:red;'>██</span><span style='color:white;'>██</span></div><div><span style='color:white;'>██</span><span style='color:blue;'>██</span><span style='color:blue;'>██</span><span style='color:blue;'>██</span><span style='color:black;'>██</span><span style='color:black;'>██</span><span style='color:red;'>██</span><span style='color:white;'>██</span></div><div><span style='color:white;'>██</span><span style='color:black;'>██</span><span style='color:black;'>██</span><span style='color:white;'>██</span><span style='color:white;'>██</span><span style='color:white;'>██</span><span style='color:white;'>██</span><span style='color:white;'>██</span></div></div><br>"
            ]
          },
          "metadata": {}
        },
        {
          "output_type": "display_data",
          "data": {
            "text/plain": [
              "<IPython.core.display.HTML object>"
            ],
            "text/html": [
              "<div style='font-family:monospace;'><div><span style='color:white;'>██</span><span style='color:white;'>██</span><span style='color:white;'>██</span><span style='color:white;'>██</span><span style='color:white;'>██</span><span style='color:white;'>██</span><span style='color:white;'>██</span><span style='color:white;'>██</span></div><div><span style='color:white;'>██</span><span style='color:blue;'>██</span><span style='color:blue;'>██</span><span style='color:blue;'>██</span><span style='color:green;'>██</span><span style='color:green;'>██</span><span style='color:green;'>██</span><span style='color:white;'>██</span></div><div><span style='color:white;'>██</span><span style='color:blue;'>██</span><span style='color:yellow;'>██</span><span style='color:magenta;'>██</span><span style='color:magenta;'>██</span><span style='color:green;'>██</span><span style='color:red;'>██</span><span style='color:white;'>██</span></div><div><span style='color:white;'>██</span><span style='color:blue;'>██</span><span style='color:yellow;'>██</span><span style='color:yellow;'>██</span><span style='color:magenta;'>██</span><span style='color:red;'>██</span><span style='color:red;'>██</span><span style='color:white;'>██</span></div><div><span style='color:white;'>██</span><span style='color:black;'>██</span><span style='color:black;'>██</span><span style='color:yellow;'>██</span><span style='color:magenta;'>██</span><span style='color:magenta;'>██</span><span style='color:red;'>██</span><span style='color:white;'>██</span></div><div><span style='color:white;'>██</span><span style='color:black;'>██</span><span style='color:black;'>██</span><span style='color:white;'>██</span><span style='color:white;'>██</span><span style='color:white;'>██</span><span style='color:white;'>██</span><span style='color:white;'>██</span></div></div><br>"
            ]
          },
          "metadata": {}
        },
        {
          "output_type": "display_data",
          "data": {
            "text/plain": [
              "<IPython.core.display.HTML object>"
            ],
            "text/html": [
              "<div style='font-family:monospace;'><div><span style='color:white;'>██</span><span style='color:white;'>██</span><span style='color:white;'>██</span><span style='color:white;'>██</span><span style='color:white;'>██</span><span style='color:white;'>██</span><span style='color:white;'>██</span><span style='color:white;'>██</span></div><div><span style='color:white;'>██</span><span style='color:blue;'>██</span><span style='color:blue;'>██</span><span style='color:blue;'>██</span><span style='color:green;'>██</span><span style='color:green;'>██</span><span style='color:green;'>██</span><span style='color:white;'>██</span></div><div><span style='color:white;'>██</span><span style='color:blue;'>██</span><span style='color:magenta;'>██</span><span style='color:magenta;'>██</span><span style='color:yellow;'>██</span><span style='color:green;'>██</span><span style='color:red;'>██</span><span style='color:white;'>██</span></div><div><span style='color:white;'>██</span><span style='color:blue;'>██</span><span style='color:magenta;'>██</span><span style='color:yellow;'>██</span><span style='color:yellow;'>██</span><span style='color:red;'>██</span><span style='color:red;'>██</span><span style='color:white;'>██</span></div><div><span style='color:white;'>██</span><span style='color:magenta;'>██</span><span style='color:magenta;'>██</span><span style='color:yellow;'>██</span><span style='color:black;'>██</span><span style='color:black;'>██</span><span style='color:red;'>██</span><span style='color:white;'>██</span></div><div><span style='color:white;'>██</span><span style='color:black;'>██</span><span style='color:black;'>██</span><span style='color:white;'>██</span><span style='color:white;'>██</span><span style='color:white;'>██</span><span style='color:white;'>██</span><span style='color:white;'>██</span></div></div><br>"
            ]
          },
          "metadata": {}
        },
        {
          "output_type": "display_data",
          "data": {
            "text/plain": [
              "<IPython.core.display.HTML object>"
            ],
            "text/html": [
              "<div style='font-family:monospace;'><div><span style='color:white;'>██</span><span style='color:white;'>██</span><span style='color:white;'>██</span><span style='color:white;'>██</span><span style='color:white;'>██</span><span style='color:white;'>██</span><span style='color:white;'>██</span><span style='color:white;'>██</span></div><div><span style='color:white;'>██</span><span style='color:black;'>██</span><span style='color:yellow;'>██</span><span style='color:yellow;'>██</span><span style='color:green;'>██</span><span style='color:green;'>██</span><span style='color:green;'>██</span><span style='color:white;'>██</span></div><div><span style='color:white;'>██</span><span style='color:yellow;'>██</span><span style='color:yellow;'>██</span><span style='color:magenta;'>██</span><span style='color:blue;'>██</span><span style='color:green;'>██</span><span style='color:red;'>██</span><span style='color:white;'>██</span></div><div><span style='color:white;'>██</span><span style='color:magenta;'>██</span><span style='color:magenta;'>██</span><span style='color:magenta;'>██</span><span style='color:blue;'>██</span><span style='color:red;'>██</span><span style='color:red;'>██</span><span style='color:white;'>██</span></div><div><span style='color:white;'>██</span><span style='color:magenta;'>██</span><span style='color:blue;'>██</span><span style='color:blue;'>██</span><span style='color:blue;'>██</span><span style='color:black;'>██</span><span style='color:red;'>██</span><span style='color:white;'>██</span></div><div><span style='color:white;'>██</span><span style='color:black;'>██</span><span style='color:black;'>██</span><span style='color:white;'>██</span><span style='color:white;'>██</span><span style='color:white;'>██</span><span style='color:white;'>██</span><span style='color:white;'>██</span></div></div><br>"
            ]
          },
          "metadata": {}
        },
        {
          "output_type": "display_data",
          "data": {
            "text/plain": [
              "<IPython.core.display.HTML object>"
            ],
            "text/html": [
              "<div style='font-family:monospace;'><div><span style='color:white;'>██</span><span style='color:white;'>██</span><span style='color:white;'>██</span><span style='color:white;'>██</span><span style='color:white;'>██</span><span style='color:white;'>██</span><span style='color:white;'>██</span><span style='color:white;'>██</span></div><div><span style='color:white;'>██</span><span style='color:blue;'>██</span><span style='color:blue;'>██</span><span style='color:blue;'>██</span><span style='color:green;'>██</span><span style='color:green;'>██</span><span style='color:green;'>██</span><span style='color:white;'>██</span></div><div><span style='color:white;'>██</span><span style='color:blue;'>██</span><span style='color:black;'>██</span><span style='color:magenta;'>██</span><span style='color:magenta;'>██</span><span style='color:green;'>██</span><span style='color:red;'>██</span><span style='color:white;'>██</span></div><div><span style='color:white;'>██</span><span style='color:blue;'>██</span><span style='color:yellow;'>██</span><span style='color:yellow;'>██</span><span style='color:magenta;'>██</span><span style='color:red;'>██</span><span style='color:red;'>██</span><span style='color:white;'>██</span></div><div><span style='color:white;'>██</span><span style='color:yellow;'>██</span><span style='color:yellow;'>██</span><span style='color:black;'>██</span><span style='color:magenta;'>██</span><span style='color:magenta;'>██</span><span style='color:red;'>██</span><span style='color:white;'>██</span></div><div><span style='color:white;'>██</span><span style='color:black;'>██</span><span style='color:black;'>██</span><span style='color:white;'>██</span><span style='color:white;'>██</span><span style='color:white;'>██</span><span style='color:white;'>██</span><span style='color:white;'>██</span></div></div><br>"
            ]
          },
          "metadata": {}
        },
        {
          "output_type": "display_data",
          "data": {
            "text/plain": [
              "<IPython.core.display.HTML object>"
            ],
            "text/html": [
              "<div style='font-family:monospace;'><div><span style='color:white;'>██</span><span style='color:white;'>██</span><span style='color:white;'>██</span><span style='color:white;'>██</span><span style='color:white;'>██</span><span style='color:white;'>██</span><span style='color:white;'>██</span><span style='color:white;'>██</span></div><div><span style='color:white;'>██</span><span style='color:green;'>██</span><span style='color:green;'>██</span><span style='color:green;'>██</span><span style='color:blue;'>██</span><span style='color:blue;'>██</span><span style='color:blue;'>██</span><span style='color:white;'>██</span></div><div><span style='color:white;'>██</span><span style='color:black;'>██</span><span style='color:green;'>██</span><span style='color:yellow;'>██</span><span style='color:magenta;'>██</span><span style='color:magenta;'>██</span><span style='color:blue;'>██</span><span style='color:white;'>██</span></div><div><span style='color:white;'>██</span><span style='color:black;'>██</span><span style='color:red;'>██</span><span style='color:yellow;'>██</span><span style='color:yellow;'>██</span><span style='color:magenta;'>██</span><span style='color:blue;'>██</span><span style='color:white;'>██</span></div><div><span style='color:white;'>██</span><span style='color:red;'>██</span><span style='color:red;'>██</span><span style='color:red;'>██</span><span style='color:yellow;'>██</span><span style='color:magenta;'>██</span><span style='color:magenta;'>██</span><span style='color:white;'>██</span></div><div><span style='color:white;'>██</span><span style='color:black;'>██</span><span style='color:black;'>██</span><span style='color:white;'>██</span><span style='color:white;'>██</span><span style='color:white;'>██</span><span style='color:white;'>██</span><span style='color:white;'>██</span></div></div><br>"
            ]
          },
          "metadata": {}
        },
        {
          "output_type": "display_data",
          "data": {
            "text/plain": [
              "<IPython.core.display.HTML object>"
            ],
            "text/html": [
              "<div style='font-family:monospace;'><div><span style='color:white;'>██</span><span style='color:white;'>██</span><span style='color:white;'>██</span><span style='color:white;'>██</span><span style='color:white;'>██</span><span style='color:white;'>██</span><span style='color:white;'>██</span><span style='color:white;'>██</span></div><div><span style='color:white;'>██</span><span style='color:green;'>██</span><span style='color:green;'>██</span><span style='color:green;'>██</span><span style='color:yellow;'>██</span><span style='color:magenta;'>██</span><span style='color:magenta;'>██</span><span style='color:white;'>██</span></div><div><span style='color:white;'>██</span><span style='color:black;'>██</span><span style='color:green;'>██</span><span style='color:yellow;'>██</span><span style='color:yellow;'>██</span><span style='color:magenta;'>██</span><span style='color:blue;'>██</span><span style='color:white;'>██</span></div><div><span style='color:white;'>██</span><span style='color:black;'>██</span><span style='color:red;'>██</span><span style='color:yellow;'>██</span><span style='color:magenta;'>██</span><span style='color:magenta;'>██</span><span style='color:blue;'>██</span><span style='color:white;'>██</span></div><div><span style='color:white;'>██</span><span style='color:red;'>██</span><span style='color:red;'>██</span><span style='color:red;'>██</span><span style='color:blue;'>██</span><span style='color:blue;'>██</span><span style='color:blue;'>██</span><span style='color:white;'>██</span></div><div><span style='color:white;'>██</span><span style='color:black;'>██</span><span style='color:black;'>██</span><span style='color:white;'>██</span><span style='color:white;'>██</span><span style='color:white;'>██</span><span style='color:white;'>██</span><span style='color:white;'>██</span></div></div><br>"
            ]
          },
          "metadata": {}
        },
        {
          "output_type": "display_data",
          "data": {
            "text/plain": [
              "<IPython.core.display.HTML object>"
            ],
            "text/html": [
              "<div style='font-family:monospace;'><div><span style='color:white;'>██</span><span style='color:white;'>██</span><span style='color:white;'>██</span><span style='color:white;'>██</span><span style='color:white;'>██</span><span style='color:white;'>██</span><span style='color:white;'>██</span><span style='color:white;'>██</span></div><div><span style='color:white;'>██</span><span style='color:green;'>██</span><span style='color:yellow;'>██</span><span style='color:yellow;'>██</span><span style='color:black;'>██</span><span style='color:magenta;'>██</span><span style='color:magenta;'>██</span><span style='color:white;'>██</span></div><div><span style='color:white;'>██</span><span style='color:green;'>██</span><span style='color:green;'>██</span><span style='color:yellow;'>██</span><span style='color:yellow;'>██</span><span style='color:magenta;'>██</span><span style='color:blue;'>██</span><span style='color:white;'>██</span></div><div><span style='color:white;'>██</span><span style='color:green;'>██</span><span style='color:red;'>██</span><span style='color:black;'>██</span><span style='color:magenta;'>██</span><span style='color:magenta;'>██</span><span style='color:blue;'>██</span><span style='color:white;'>██</span></div><div><span style='color:white;'>██</span><span style='color:red;'>██</span><span style='color:red;'>██</span><span style='color:red;'>██</span><span style='color:blue;'>██</span><span style='color:blue;'>██</span><span style='color:blue;'>██</span><span style='color:white;'>██</span></div><div><span style='color:white;'>██</span><span style='color:black;'>██</span><span style='color:black;'>██</span><span style='color:white;'>██</span><span style='color:white;'>██</span><span style='color:white;'>██</span><span style='color:white;'>██</span><span style='color:white;'>██</span></div></div><br>"
            ]
          },
          "metadata": {}
        },
        {
          "output_type": "display_data",
          "data": {
            "text/plain": [
              "<IPython.core.display.HTML object>"
            ],
            "text/html": [
              "<div style='font-family:monospace;'><div><span style='color:white;'>██</span><span style='color:white;'>██</span><span style='color:white;'>██</span><span style='color:white;'>██</span><span style='color:white;'>██</span><span style='color:white;'>██</span><span style='color:white;'>██</span><span style='color:white;'>██</span></div><div><span style='color:white;'>██</span><span style='color:green;'>██</span><span style='color:black;'>██</span><span style='color:magenta;'>██</span><span style='color:blue;'>██</span><span style='color:blue;'>██</span><span style='color:blue;'>██</span><span style='color:white;'>██</span></div><div><span style='color:white;'>██</span><span style='color:green;'>██</span><span style='color:green;'>██</span><span style='color:magenta;'>██</span><span style='color:magenta;'>██</span><span style='color:magenta;'>██</span><span style='color:blue;'>██</span><span style='color:white;'>██</span></div><div><span style='color:white;'>██</span><span style='color:green;'>██</span><span style='color:red;'>██</span><span style='color:yellow;'>██</span><span style='color:yellow;'>██</span><span style='color:magenta;'>██</span><span style='color:blue;'>██</span><span style='color:white;'>██</span></div><div><span style='color:white;'>██</span><span style='color:red;'>██</span><span style='color:red;'>██</span><span style='color:red;'>██</span><span style='color:yellow;'>██</span><span style='color:yellow;'>██</span><span style='color:black;'>██</span><span style='color:white;'>██</span></div><div><span style='color:white;'>██</span><span style='color:black;'>██</span><span style='color:black;'>██</span><span style='color:white;'>██</span><span style='color:white;'>██</span><span style='color:white;'>██</span><span style='color:white;'>██</span><span style='color:white;'>██</span></div></div><br>"
            ]
          },
          "metadata": {}
        },
        {
          "output_type": "display_data",
          "data": {
            "text/plain": [
              "<IPython.core.display.HTML object>"
            ],
            "text/html": [
              "<div style='font-family:monospace;'><div><span style='color:white;'>██</span><span style='color:white;'>██</span><span style='color:white;'>██</span><span style='color:white;'>██</span><span style='color:white;'>██</span><span style='color:white;'>██</span><span style='color:white;'>██</span><span style='color:white;'>██</span></div><div><span style='color:white;'>██</span><span style='color:green;'>██</span><span style='color:magenta;'>██</span><span style='color:magenta;'>██</span><span style='color:yellow;'>██</span><span style='color:black;'>██</span><span style='color:black;'>██</span><span style='color:white;'>██</span></div><div><span style='color:white;'>██</span><span style='color:green;'>██</span><span style='color:green;'>██</span><span style='color:magenta;'>██</span><span style='color:yellow;'>██</span><span style='color:yellow;'>██</span><span style='color:blue;'>██</span><span style='color:white;'>██</span></div><div><span style='color:white;'>██</span><span style='color:green;'>██</span><span style='color:red;'>██</span><span style='color:magenta;'>██</span><span style='color:magenta;'>██</span><span style='color:yellow;'>██</span><span style='color:blue;'>██</span><span style='color:white;'>██</span></div><div><span style='color:white;'>██</span><span style='color:red;'>██</span><span style='color:red;'>██</span><span style='color:red;'>██</span><span style='color:blue;'>██</span><span style='color:blue;'>██</span><span style='color:blue;'>██</span><span style='color:white;'>██</span></div><div><span style='color:white;'>██</span><span style='color:black;'>██</span><span style='color:black;'>██</span><span style='color:white;'>██</span><span style='color:white;'>██</span><span style='color:white;'>██</span><span style='color:white;'>██</span><span style='color:white;'>██</span></div></div><br>"
            ]
          },
          "metadata": {}
        },
        {
          "output_type": "display_data",
          "data": {
            "text/plain": [
              "<IPython.core.display.HTML object>"
            ],
            "text/html": [
              "<div style='font-family:monospace;'><div><span style='color:white;'>██</span><span style='color:white;'>██</span><span style='color:white;'>██</span><span style='color:white;'>██</span><span style='color:white;'>██</span><span style='color:white;'>██</span><span style='color:white;'>██</span><span style='color:white;'>██</span></div><div><span style='color:white;'>██</span><span style='color:green;'>██</span><span style='color:black;'>██</span><span style='color:black;'>██</span><span style='color:blue;'>██</span><span style='color:blue;'>██</span><span style='color:blue;'>██</span><span style='color:white;'>██</span></div><div><span style='color:white;'>██</span><span style='color:green;'>██</span><span style='color:green;'>██</span><span style='color:yellow;'>██</span><span style='color:magenta;'>██</span><span style='color:magenta;'>██</span><span style='color:blue;'>██</span><span style='color:white;'>██</span></div><div><span style='color:white;'>██</span><span style='color:green;'>██</span><span style='color:red;'>██</span><span style='color:yellow;'>██</span><span style='color:yellow;'>██</span><span style='color:magenta;'>██</span><span style='color:blue;'>██</span><span style='color:white;'>██</span></div><div><span style='color:white;'>██</span><span style='color:red;'>██</span><span style='color:red;'>██</span><span style='color:red;'>██</span><span style='color:yellow;'>██</span><span style='color:magenta;'>██</span><span style='color:magenta;'>██</span><span style='color:white;'>██</span></div><div><span style='color:white;'>██</span><span style='color:black;'>██</span><span style='color:black;'>██</span><span style='color:white;'>██</span><span style='color:white;'>██</span><span style='color:white;'>██</span><span style='color:white;'>██</span><span style='color:white;'>██</span></div></div><br>"
            ]
          },
          "metadata": {}
        },
        {
          "output_type": "display_data",
          "data": {
            "text/plain": [
              "<IPython.core.display.HTML object>"
            ],
            "text/html": [
              "<div style='font-family:monospace;'><div><span style='color:white;'>██</span><span style='color:white;'>██</span><span style='color:white;'>██</span><span style='color:white;'>██</span><span style='color:white;'>██</span><span style='color:white;'>██</span><span style='color:white;'>██</span><span style='color:white;'>██</span></div><div><span style='color:white;'>██</span><span style='color:green;'>██</span><span style='color:black;'>██</span><span style='color:black;'>██</span><span style='color:yellow;'>██</span><span style='color:magenta;'>██</span><span style='color:magenta;'>██</span><span style='color:white;'>██</span></div><div><span style='color:white;'>██</span><span style='color:green;'>██</span><span style='color:green;'>██</span><span style='color:yellow;'>██</span><span style='color:yellow;'>██</span><span style='color:magenta;'>██</span><span style='color:blue;'>██</span><span style='color:white;'>██</span></div><div><span style='color:white;'>██</span><span style='color:green;'>██</span><span style='color:red;'>██</span><span style='color:yellow;'>██</span><span style='color:magenta;'>██</span><span style='color:magenta;'>██</span><span style='color:blue;'>██</span><span style='color:white;'>██</span></div><div><span style='color:white;'>██</span><span style='color:red;'>██</span><span style='color:red;'>██</span><span style='color:red;'>██</span><span style='color:blue;'>██</span><span style='color:blue;'>██</span><span style='color:blue;'>██</span><span style='color:white;'>██</span></div><div><span style='color:white;'>██</span><span style='color:black;'>██</span><span style='color:black;'>██</span><span style='color:white;'>██</span><span style='color:white;'>██</span><span style='color:white;'>██</span><span style='color:white;'>██</span><span style='color:white;'>██</span></div></div><br>"
            ]
          },
          "metadata": {}
        },
        {
          "output_type": "display_data",
          "data": {
            "text/plain": [
              "<IPython.core.display.HTML object>"
            ],
            "text/html": [
              "<div style='font-family:monospace;'><div><span style='color:white;'>██</span><span style='color:white;'>██</span><span style='color:white;'>██</span><span style='color:white;'>██</span><span style='color:white;'>██</span><span style='color:white;'>██</span><span style='color:white;'>██</span><span style='color:white;'>██</span></div><div><span style='color:white;'>██</span><span style='color:green;'>██</span><span style='color:magenta;'>██</span><span style='color:magenta;'>██</span><span style='color:black;'>██</span><span style='color:yellow;'>██</span><span style='color:yellow;'>██</span><span style='color:white;'>██</span></div><div><span style='color:white;'>██</span><span style='color:green;'>██</span><span style='color:green;'>██</span><span style='color:magenta;'>██</span><span style='color:yellow;'>██</span><span style='color:yellow;'>██</span><span style='color:blue;'>██</span><span style='color:white;'>██</span></div><div><span style='color:white;'>██</span><span style='color:green;'>██</span><span style='color:red;'>██</span><span style='color:magenta;'>██</span><span style='color:magenta;'>██</span><span style='color:black;'>██</span><span style='color:blue;'>██</span><span style='color:white;'>██</span></div><div><span style='color:white;'>██</span><span style='color:red;'>██</span><span style='color:red;'>██</span><span style='color:red;'>██</span><span style='color:blue;'>██</span><span style='color:blue;'>██</span><span style='color:blue;'>██</span><span style='color:white;'>██</span></div><div><span style='color:white;'>██</span><span style='color:black;'>██</span><span style='color:black;'>██</span><span style='color:white;'>██</span><span style='color:white;'>██</span><span style='color:white;'>██</span><span style='color:white;'>██</span><span style='color:white;'>██</span></div></div><br>"
            ]
          },
          "metadata": {}
        },
        {
          "output_type": "display_data",
          "data": {
            "text/plain": [
              "<IPython.core.display.HTML object>"
            ],
            "text/html": [
              "<div style='font-family:monospace;'><div><span style='color:white;'>██</span><span style='color:white;'>██</span><span style='color:white;'>██</span><span style='color:white;'>██</span><span style='color:white;'>██</span><span style='color:white;'>██</span><span style='color:white;'>██</span><span style='color:white;'>██</span></div><div><span style='color:white;'>██</span><span style='color:green;'>██</span><span style='color:black;'>██</span><span style='color:blue;'>██</span><span style='color:blue;'>██</span><span style='color:blue;'>██</span><span style='color:magenta;'>██</span><span style='color:white;'>██</span></div><div><span style='color:white;'>██</span><span style='color:green;'>██</span><span style='color:green;'>██</span><span style='color:blue;'>██</span><span style='color:magenta;'>██</span><span style='color:magenta;'>██</span><span style='color:magenta;'>██</span><span style='color:white;'>██</span></div><div><span style='color:white;'>██</span><span style='color:green;'>██</span><span style='color:red;'>██</span><span style='color:blue;'>██</span><span style='color:magenta;'>██</span><span style='color:yellow;'>██</span><span style='color:yellow;'>██</span><span style='color:white;'>██</span></div><div><span style='color:white;'>██</span><span style='color:red;'>██</span><span style='color:red;'>██</span><span style='color:red;'>██</span><span style='color:yellow;'>██</span><span style='color:yellow;'>██</span><span style='color:black;'>██</span><span style='color:white;'>██</span></div><div><span style='color:white;'>██</span><span style='color:black;'>██</span><span style='color:black;'>██</span><span style='color:white;'>██</span><span style='color:white;'>██</span><span style='color:white;'>██</span><span style='color:white;'>██</span><span style='color:white;'>██</span></div></div><br>"
            ]
          },
          "metadata": {}
        },
        {
          "output_type": "display_data",
          "data": {
            "text/plain": [
              "<IPython.core.display.HTML object>"
            ],
            "text/html": [
              "<div style='font-family:monospace;'><div><span style='color:white;'>██</span><span style='color:white;'>██</span><span style='color:white;'>██</span><span style='color:white;'>██</span><span style='color:white;'>██</span><span style='color:white;'>██</span><span style='color:white;'>██</span><span style='color:white;'>██</span></div><div><span style='color:white;'>██</span><span style='color:black;'>██</span><span style='color:yellow;'>██</span><span style='color:green;'>██</span><span style='color:black;'>██</span><span style='color:magenta;'>██</span><span style='color:magenta;'>██</span><span style='color:white;'>██</span></div><div><span style='color:white;'>██</span><span style='color:yellow;'>██</span><span style='color:yellow;'>██</span><span style='color:green;'>██</span><span style='color:green;'>██</span><span style='color:magenta;'>██</span><span style='color:blue;'>██</span><span style='color:white;'>██</span></div><div><span style='color:white;'>██</span><span style='color:yellow;'>██</span><span style='color:red;'>██</span><span style='color:green;'>██</span><span style='color:magenta;'>██</span><span style='color:magenta;'>██</span><span style='color:blue;'>██</span><span style='color:white;'>██</span></div><div><span style='color:white;'>██</span><span style='color:red;'>██</span><span style='color:red;'>██</span><span style='color:red;'>██</span><span style='color:blue;'>██</span><span style='color:blue;'>██</span><span style='color:blue;'>██</span><span style='color:white;'>██</span></div><div><span style='color:white;'>██</span><span style='color:black;'>██</span><span style='color:black;'>██</span><span style='color:white;'>██</span><span style='color:white;'>██</span><span style='color:white;'>██</span><span style='color:white;'>██</span><span style='color:white;'>██</span></div></div><br>"
            ]
          },
          "metadata": {}
        },
        {
          "output_type": "display_data",
          "data": {
            "text/plain": [
              "<IPython.core.display.HTML object>"
            ],
            "text/html": [
              "<div style='font-family:monospace;'><div><span style='color:white;'>██</span><span style='color:white;'>██</span><span style='color:white;'>██</span><span style='color:white;'>██</span><span style='color:white;'>██</span><span style='color:white;'>██</span><span style='color:white;'>██</span><span style='color:white;'>██</span></div><div><span style='color:white;'>██</span><span style='color:yellow;'>██</span><span style='color:yellow;'>██</span><span style='color:black;'>██</span><span style='color:blue;'>██</span><span style='color:blue;'>██</span><span style='color:blue;'>██</span><span style='color:white;'>██</span></div><div><span style='color:white;'>██</span><span style='color:green;'>██</span><span style='color:yellow;'>██</span><span style='color:yellow;'>██</span><span style='color:magenta;'>██</span><span style='color:magenta;'>██</span><span style='color:blue;'>██</span><span style='color:white;'>██</span></div><div><span style='color:white;'>██</span><span style='color:green;'>██</span><span style='color:green;'>██</span><span style='color:red;'>██</span><span style='color:black;'>██</span><span style='color:magenta;'>██</span><span style='color:blue;'>██</span><span style='color:white;'>██</span></div><div><span style='color:white;'>██</span><span style='color:green;'>██</span><span style='color:red;'>██</span><span style='color:red;'>██</span><span style='color:red;'>██</span><span style='color:magenta;'>██</span><span style='color:magenta;'>██</span><span style='color:white;'>██</span></div><div><span style='color:white;'>██</span><span style='color:black;'>██</span><span style='color:black;'>██</span><span style='color:white;'>██</span><span style='color:white;'>██</span><span style='color:white;'>██</span><span style='color:white;'>██</span><span style='color:white;'>██</span></div></div><br>"
            ]
          },
          "metadata": {}
        },
        {
          "output_type": "display_data",
          "data": {
            "text/plain": [
              "<IPython.core.display.HTML object>"
            ],
            "text/html": [
              "<div style='font-family:monospace;'><div><span style='color:white;'>██</span><span style='color:white;'>██</span><span style='color:white;'>██</span><span style='color:white;'>██</span><span style='color:white;'>██</span><span style='color:white;'>██</span><span style='color:white;'>██</span><span style='color:white;'>██</span></div><div><span style='color:white;'>██</span><span style='color:blue;'>██</span><span style='color:blue;'>██</span><span style='color:blue;'>██</span><span style='color:magenta;'>██</span><span style='color:black;'>██</span><span style='color:green;'>██</span><span style='color:white;'>██</span></div><div><span style='color:white;'>██</span><span style='color:blue;'>██</span><span style='color:magenta;'>██</span><span style='color:magenta;'>██</span><span style='color:magenta;'>██</span><span style='color:green;'>██</span><span style='color:green;'>██</span><span style='color:white;'>██</span></div><div><span style='color:white;'>██</span><span style='color:blue;'>██</span><span style='color:magenta;'>██</span><span style='color:red;'>██</span><span style='color:yellow;'>██</span><span style='color:yellow;'>██</span><span style='color:green;'>██</span><span style='color:white;'>██</span></div><div><span style='color:white;'>██</span><span style='color:black;'>██</span><span style='color:red;'>██</span><span style='color:red;'>██</span><span style='color:red;'>██</span><span style='color:yellow;'>██</span><span style='color:yellow;'>██</span><span style='color:white;'>██</span></div><div><span style='color:white;'>██</span><span style='color:black;'>██</span><span style='color:black;'>██</span><span style='color:white;'>██</span><span style='color:white;'>██</span><span style='color:white;'>██</span><span style='color:white;'>██</span><span style='color:white;'>██</span></div></div><br>"
            ]
          },
          "metadata": {}
        },
        {
          "output_type": "display_data",
          "data": {
            "text/plain": [
              "<IPython.core.display.HTML object>"
            ],
            "text/html": [
              "<div style='font-family:monospace;'><div><span style='color:white;'>██</span><span style='color:white;'>██</span><span style='color:white;'>██</span><span style='color:white;'>██</span><span style='color:white;'>██</span><span style='color:white;'>██</span><span style='color:white;'>██</span><span style='color:white;'>██</span></div><div><span style='color:white;'>██</span><span style='color:green;'>██</span><span style='color:black;'>██</span><span style='color:magenta;'>██</span><span style='color:blue;'>██</span><span style='color:blue;'>██</span><span style='color:blue;'>██</span><span style='color:white;'>██</span></div><div><span style='color:white;'>██</span><span style='color:green;'>██</span><span style='color:green;'>██</span><span style='color:magenta;'>██</span><span style='color:magenta;'>██</span><span style='color:magenta;'>██</span><span style='color:blue;'>██</span><span style='color:white;'>██</span></div><div><span style='color:white;'>██</span><span style='color:green;'>██</span><span style='color:yellow;'>██</span><span style='color:yellow;'>██</span><span style='color:red;'>██</span><span style='color:magenta;'>██</span><span style='color:blue;'>██</span><span style='color:white;'>██</span></div><div><span style='color:white;'>██</span><span style='color:yellow;'>██</span><span style='color:yellow;'>██</span><span style='color:red;'>██</span><span style='color:red;'>██</span><span style='color:red;'>██</span><span style='color:black;'>██</span><span style='color:white;'>██</span></div><div><span style='color:white;'>██</span><span style='color:black;'>██</span><span style='color:black;'>██</span><span style='color:white;'>██</span><span style='color:white;'>██</span><span style='color:white;'>██</span><span style='color:white;'>██</span><span style='color:white;'>██</span></div></div><br>"
            ]
          },
          "metadata": {}
        },
        {
          "output_type": "display_data",
          "data": {
            "text/plain": [
              "<IPython.core.display.HTML object>"
            ],
            "text/html": [
              "<div style='font-family:monospace;'><div><span style='color:white;'>██</span><span style='color:white;'>██</span><span style='color:white;'>██</span><span style='color:white;'>██</span><span style='color:white;'>██</span><span style='color:white;'>██</span><span style='color:white;'>██</span><span style='color:white;'>██</span></div><div><span style='color:white;'>██</span><span style='color:blue;'>██</span><span style='color:blue;'>██</span><span style='color:blue;'>██</span><span style='color:black;'>██</span><span style='color:yellow;'>██</span><span style='color:yellow;'>██</span><span style='color:white;'>██</span></div><div><span style='color:white;'>██</span><span style='color:blue;'>██</span><span style='color:magenta;'>██</span><span style='color:magenta;'>██</span><span style='color:yellow;'>██</span><span style='color:yellow;'>██</span><span style='color:green;'>██</span><span style='color:white;'>██</span></div><div><span style='color:white;'>██</span><span style='color:blue;'>██</span><span style='color:magenta;'>██</span><span style='color:black;'>██</span><span style='color:red;'>██</span><span style='color:green;'>██</span><span style='color:green;'>██</span><span style='color:white;'>██</span></div><div><span style='color:white;'>██</span><span style='color:magenta;'>██</span><span style='color:magenta;'>██</span><span style='color:red;'>██</span><span style='color:red;'>██</span><span style='color:red;'>██</span><span style='color:green;'>██</span><span style='color:white;'>██</span></div><div><span style='color:white;'>██</span><span style='color:black;'>██</span><span style='color:black;'>██</span><span style='color:white;'>██</span><span style='color:white;'>██</span><span style='color:white;'>██</span><span style='color:white;'>██</span><span style='color:white;'>██</span></div></div><br>"
            ]
          },
          "metadata": {}
        },
        {
          "output_type": "display_data",
          "data": {
            "text/plain": [
              "<IPython.core.display.HTML object>"
            ],
            "text/html": [
              "<div style='font-family:monospace;'><div><span style='color:white;'>██</span><span style='color:white;'>██</span><span style='color:white;'>██</span><span style='color:white;'>██</span><span style='color:white;'>██</span><span style='color:white;'>██</span><span style='color:white;'>██</span><span style='color:white;'>██</span></div><div><span style='color:white;'>██</span><span style='color:magenta;'>██</span><span style='color:magenta;'>██</span><span style='color:yellow;'>██</span><span style='color:green;'>██</span><span style='color:green;'>██</span><span style='color:green;'>██</span><span style='color:white;'>██</span></div><div><span style='color:white;'>██</span><span style='color:blue;'>██</span><span style='color:magenta;'>██</span><span style='color:yellow;'>██</span><span style='color:yellow;'>██</span><span style='color:green;'>██</span><span style='color:black;'>██</span><span style='color:white;'>██</span></div><div><span style='color:white;'>██</span><span style='color:blue;'>██</span><span style='color:magenta;'>██</span><span style='color:magenta;'>██</span><span style='color:yellow;'>██</span><span style='color:red;'>██</span><span style='color:black;'>██</span><span style='color:white;'>██</span></div><div><span style='color:white;'>██</span><span style='color:blue;'>██</span><span style='color:blue;'>██</span><span style='color:blue;'>██</span><span style='color:red;'>██</span><span style='color:red;'>██</span><span style='color:red;'>██</span><span style='color:white;'>██</span></div><div><span style='color:white;'>██</span><span style='color:black;'>██</span><span style='color:black;'>██</span><span style='color:white;'>██</span><span style='color:white;'>██</span><span style='color:white;'>██</span><span style='color:white;'>██</span><span style='color:white;'>██</span></div></div><br>"
            ]
          },
          "metadata": {}
        },
        {
          "output_type": "display_data",
          "data": {
            "text/plain": [
              "<IPython.core.display.HTML object>"
            ],
            "text/html": [
              "<div style='font-family:monospace;'><div><span style='color:white;'>██</span><span style='color:white;'>██</span><span style='color:white;'>██</span><span style='color:white;'>██</span><span style='color:white;'>██</span><span style='color:white;'>██</span><span style='color:white;'>██</span><span style='color:white;'>██</span></div><div><span style='color:white;'>██</span><span style='color:blue;'>██</span><span style='color:blue;'>██</span><span style='color:blue;'>██</span><span style='color:green;'>██</span><span style='color:green;'>██</span><span style='color:green;'>██</span><span style='color:white;'>██</span></div><div><span style='color:white;'>██</span><span style='color:blue;'>██</span><span style='color:magenta;'>██</span><span style='color:magenta;'>██</span><span style='color:yellow;'>██</span><span style='color:green;'>██</span><span style='color:black;'>██</span><span style='color:white;'>██</span></div><div><span style='color:white;'>██</span><span style='color:blue;'>██</span><span style='color:magenta;'>██</span><span style='color:yellow;'>██</span><span style='color:yellow;'>██</span><span style='color:red;'>██</span><span style='color:black;'>██</span><span style='color:white;'>██</span></div><div><span style='color:white;'>██</span><span style='color:magenta;'>██</span><span style='color:magenta;'>██</span><span style='color:yellow;'>██</span><span style='color:red;'>██</span><span style='color:red;'>██</span><span style='color:red;'>██</span><span style='color:white;'>██</span></div><div><span style='color:white;'>██</span><span style='color:black;'>██</span><span style='color:black;'>██</span><span style='color:white;'>██</span><span style='color:white;'>██</span><span style='color:white;'>██</span><span style='color:white;'>██</span><span style='color:white;'>██</span></div></div><br>"
            ]
          },
          "metadata": {}
        },
        {
          "output_type": "display_data",
          "data": {
            "text/plain": [
              "<IPython.core.display.HTML object>"
            ],
            "text/html": [
              "<div style='font-family:monospace;'><div><span style='color:white;'>██</span><span style='color:white;'>██</span><span style='color:white;'>██</span><span style='color:white;'>██</span><span style='color:white;'>██</span><span style='color:white;'>██</span><span style='color:white;'>██</span><span style='color:white;'>██</span></div><div><span style='color:white;'>██</span><span style='color:magenta;'>██</span><span style='color:magenta;'>██</span><span style='color:black;'>██</span><span style='color:green;'>██</span><span style='color:yellow;'>██</span><span style='color:black;'>██</span><span style='color:white;'>██</span></div><div><span style='color:white;'>██</span><span style='color:blue;'>██</span><span style='color:magenta;'>██</span><span style='color:green;'>██</span><span style='color:green;'>██</span><span style='color:yellow;'>██</span><span style='color:yellow;'>██</span><span style='color:white;'>██</span></div><div><span style='color:white;'>██</span><span style='color:blue;'>██</span><span style='color:magenta;'>██</span><span style='color:magenta;'>██</span><span style='color:green;'>██</span><span style='color:red;'>██</span><span style='color:yellow;'>██</span><span style='color:white;'>██</span></div><div><span style='color:white;'>██</span><span style='color:blue;'>██</span><span style='color:blue;'>██</span><span style='color:blue;'>██</span><span style='color:red;'>██</span><span style='color:red;'>██</span><span style='color:red;'>██</span><span style='color:white;'>██</span></div><div><span style='color:white;'>██</span><span style='color:black;'>██</span><span style='color:black;'>██</span><span style='color:white;'>██</span><span style='color:white;'>██</span><span style='color:white;'>██</span><span style='color:white;'>██</span><span style='color:white;'>██</span></div></div><br>"
            ]
          },
          "metadata": {}
        },
        {
          "output_type": "display_data",
          "data": {
            "text/plain": [
              "<IPython.core.display.HTML object>"
            ],
            "text/html": [
              "<div style='font-family:monospace;'><div><span style='color:white;'>██</span><span style='color:white;'>██</span><span style='color:white;'>██</span><span style='color:white;'>██</span><span style='color:white;'>██</span><span style='color:white;'>██</span><span style='color:white;'>██</span><span style='color:white;'>██</span></div><div><span style='color:white;'>██</span><span style='color:yellow;'>██</span><span style='color:yellow;'>██</span><span style='color:black;'>██</span><span style='color:magenta;'>██</span><span style='color:magenta;'>██</span><span style='color:green;'>██</span><span style='color:white;'>██</span></div><div><span style='color:white;'>██</span><span style='color:blue;'>██</span><span style='color:yellow;'>██</span><span style='color:yellow;'>██</span><span style='color:magenta;'>██</span><span style='color:green;'>██</span><span style='color:green;'>██</span><span style='color:white;'>██</span></div><div><span style='color:white;'>██</span><span style='color:blue;'>██</span><span style='color:black;'>██</span><span style='color:magenta;'>██</span><span style='color:magenta;'>██</span><span style='color:red;'>██</span><span style='color:green;'>██</span><span style='color:white;'>██</span></div><div><span style='color:white;'>██</span><span style='color:blue;'>██</span><span style='color:blue;'>██</span><span style='color:blue;'>██</span><span style='color:red;'>██</span><span style='color:red;'>██</span><span style='color:red;'>██</span><span style='color:white;'>██</span></div><div><span style='color:white;'>██</span><span style='color:black;'>██</span><span style='color:black;'>██</span><span style='color:white;'>██</span><span style='color:white;'>██</span><span style='color:white;'>██</span><span style='color:white;'>██</span><span style='color:white;'>██</span></div></div><br>"
            ]
          },
          "metadata": {}
        },
        {
          "output_type": "display_data",
          "data": {
            "text/plain": [
              "<IPython.core.display.HTML object>"
            ],
            "text/html": [
              "<div style='font-family:monospace;'><div><span style='color:white;'>██</span><span style='color:white;'>██</span><span style='color:white;'>██</span><span style='color:white;'>██</span><span style='color:white;'>██</span><span style='color:white;'>██</span><span style='color:white;'>██</span><span style='color:white;'>██</span></div><div><span style='color:white;'>██</span><span style='color:magenta;'>██</span><span style='color:blue;'>██</span><span style='color:blue;'>██</span><span style='color:blue;'>██</span><span style='color:black;'>██</span><span style='color:green;'>██</span><span style='color:white;'>██</span></div><div><span style='color:white;'>██</span><span style='color:magenta;'>██</span><span style='color:magenta;'>██</span><span style='color:magenta;'>██</span><span style='color:blue;'>██</span><span style='color:green;'>██</span><span style='color:green;'>██</span><span style='color:white;'>██</span></div><div><span style='color:white;'>██</span><span style='color:yellow;'>██</span><span style='color:yellow;'>██</span><span style='color:magenta;'>██</span><span style='color:blue;'>██</span><span style='color:red;'>██</span><span style='color:green;'>██</span><span style='color:white;'>██</span></div><div><span style='color:white;'>██</span><span style='color:black;'>██</span><span style='color:yellow;'>██</span><span style='color:yellow;'>██</span><span style='color:red;'>██</span><span style='color:red;'>██</span><span style='color:red;'>██</span><span style='color:white;'>██</span></div><div><span style='color:white;'>██</span><span style='color:black;'>██</span><span style='color:black;'>██</span><span style='color:white;'>██</span><span style='color:white;'>██</span><span style='color:white;'>██</span><span style='color:white;'>██</span><span style='color:white;'>██</span></div></div><br>"
            ]
          },
          "metadata": {}
        },
        {
          "output_type": "display_data",
          "data": {
            "text/plain": [
              "<IPython.core.display.HTML object>"
            ],
            "text/html": [
              "<div style='font-family:monospace;'><div><span style='color:white;'>██</span><span style='color:white;'>██</span><span style='color:white;'>██</span><span style='color:white;'>██</span><span style='color:white;'>██</span><span style='color:white;'>██</span><span style='color:white;'>██</span><span style='color:white;'>██</span></div><div><span style='color:white;'>██</span><span style='color:magenta;'>██</span><span style='color:magenta;'>██</span><span style='color:yellow;'>██</span><span style='color:black;'>██</span><span style='color:black;'>██</span><span style='color:green;'>██</span><span style='color:white;'>██</span></div><div><span style='color:white;'>██</span><span style='color:blue;'>██</span><span style='color:magenta;'>██</span><span style='color:yellow;'>██</span><span style='color:yellow;'>██</span><span style='color:green;'>██</span><span style='color:green;'>██</span><span style='color:white;'>██</span></div><div><span style='color:white;'>██</span><span style='color:blue;'>██</span><span style='color:magenta;'>██</span><span style='color:magenta;'>██</span><span style='color:yellow;'>██</span><span style='color:red;'>██</span><span style='color:green;'>██</span><span style='color:white;'>██</span></div><div><span style='color:white;'>██</span><span style='color:blue;'>██</span><span style='color:blue;'>██</span><span style='color:blue;'>██</span><span style='color:red;'>██</span><span style='color:red;'>██</span><span style='color:red;'>██</span><span style='color:white;'>██</span></div><div><span style='color:white;'>██</span><span style='color:black;'>██</span><span style='color:black;'>██</span><span style='color:white;'>██</span><span style='color:white;'>██</span><span style='color:white;'>██</span><span style='color:white;'>██</span><span style='color:white;'>██</span></div></div><br>"
            ]
          },
          "metadata": {}
        },
        {
          "output_type": "display_data",
          "data": {
            "text/plain": [
              "<IPython.core.display.HTML object>"
            ],
            "text/html": [
              "<div style='font-family:monospace;'><div><span style='color:white;'>██</span><span style='color:white;'>██</span><span style='color:white;'>██</span><span style='color:white;'>██</span><span style='color:white;'>██</span><span style='color:white;'>██</span><span style='color:white;'>██</span><span style='color:white;'>██</span></div><div><span style='color:white;'>██</span><span style='color:black;'>██</span><span style='color:black;'>██</span><span style='color:yellow;'>██</span><span style='color:magenta;'>██</span><span style='color:magenta;'>██</span><span style='color:green;'>██</span><span style='color:white;'>██</span></div><div><span style='color:white;'>██</span><span style='color:blue;'>██</span><span style='color:yellow;'>██</span><span style='color:yellow;'>██</span><span style='color:magenta;'>██</span><span style='color:green;'>██</span><span style='color:green;'>██</span><span style='color:white;'>██</span></div><div><span style='color:white;'>██</span><span style='color:blue;'>██</span><span style='color:yellow;'>██</span><span style='color:magenta;'>██</span><span style='color:magenta;'>██</span><span style='color:red;'>██</span><span style='color:green;'>██</span><span style='color:white;'>██</span></div><div><span style='color:white;'>██</span><span style='color:blue;'>██</span><span style='color:blue;'>██</span><span style='color:blue;'>██</span><span style='color:red;'>██</span><span style='color:red;'>██</span><span style='color:red;'>██</span><span style='color:white;'>██</span></div><div><span style='color:white;'>██</span><span style='color:black;'>██</span><span style='color:black;'>██</span><span style='color:white;'>██</span><span style='color:white;'>██</span><span style='color:white;'>██</span><span style='color:white;'>██</span><span style='color:white;'>██</span></div></div><br>"
            ]
          },
          "metadata": {}
        },
        {
          "output_type": "display_data",
          "data": {
            "text/plain": [
              "<IPython.core.display.HTML object>"
            ],
            "text/html": [
              "<div style='font-family:monospace;'><div><span style='color:white;'>██</span><span style='color:white;'>██</span><span style='color:white;'>██</span><span style='color:white;'>██</span><span style='color:white;'>██</span><span style='color:white;'>██</span><span style='color:white;'>██</span><span style='color:white;'>██</span></div><div><span style='color:white;'>██</span><span style='color:blue;'>██</span><span style='color:blue;'>██</span><span style='color:blue;'>██</span><span style='color:black;'>██</span><span style='color:black;'>██</span><span style='color:green;'>██</span><span style='color:white;'>██</span></div><div><span style='color:white;'>██</span><span style='color:blue;'>██</span><span style='color:magenta;'>██</span><span style='color:magenta;'>██</span><span style='color:yellow;'>██</span><span style='color:green;'>██</span><span style='color:green;'>██</span><span style='color:white;'>██</span></div><div><span style='color:white;'>██</span><span style='color:blue;'>██</span><span style='color:magenta;'>██</span><span style='color:yellow;'>██</span><span style='color:yellow;'>██</span><span style='color:red;'>██</span><span style='color:green;'>██</span><span style='color:white;'>██</span></div><div><span style='color:white;'>██</span><span style='color:magenta;'>██</span><span style='color:magenta;'>██</span><span style='color:yellow;'>██</span><span style='color:red;'>██</span><span style='color:red;'>██</span><span style='color:red;'>██</span><span style='color:white;'>██</span></div><div><span style='color:white;'>██</span><span style='color:black;'>██</span><span style='color:black;'>██</span><span style='color:white;'>██</span><span style='color:white;'>██</span><span style='color:white;'>██</span><span style='color:white;'>██</span><span style='color:white;'>██</span></div></div><br>"
            ]
          },
          "metadata": {}
        },
        {
          "output_type": "display_data",
          "data": {
            "text/plain": [
              "<IPython.core.display.HTML object>"
            ],
            "text/html": [
              "<div style='font-family:monospace;'><div><span style='color:white;'>██</span><span style='color:white;'>██</span><span style='color:white;'>██</span><span style='color:white;'>██</span><span style='color:white;'>██</span><span style='color:white;'>██</span><span style='color:white;'>██</span><span style='color:white;'>██</span></div><div><span style='color:white;'>██</span><span style='color:magenta;'>██</span><span style='color:magenta;'>██</span><span style='color:black;'>██</span><span style='color:yellow;'>██</span><span style='color:yellow;'>██</span><span style='color:green;'>██</span><span style='color:white;'>██</span></div><div><span style='color:white;'>██</span><span style='color:blue;'>██</span><span style='color:magenta;'>██</span><span style='color:yellow;'>██</span><span style='color:yellow;'>██</span><span style='color:green;'>██</span><span style='color:green;'>██</span><span style='color:white;'>██</span></div><div><span style='color:white;'>██</span><span style='color:blue;'>██</span><span style='color:magenta;'>██</span><span style='color:magenta;'>██</span><span style='color:black;'>██</span><span style='color:red;'>██</span><span style='color:green;'>██</span><span style='color:white;'>██</span></div><div><span style='color:white;'>██</span><span style='color:blue;'>██</span><span style='color:blue;'>██</span><span style='color:blue;'>██</span><span style='color:red;'>██</span><span style='color:red;'>██</span><span style='color:red;'>██</span><span style='color:white;'>██</span></div><div><span style='color:white;'>██</span><span style='color:black;'>██</span><span style='color:black;'>██</span><span style='color:white;'>██</span><span style='color:white;'>██</span><span style='color:white;'>██</span><span style='color:white;'>██</span><span style='color:white;'>██</span></div></div><br>"
            ]
          },
          "metadata": {}
        },
        {
          "output_type": "display_data",
          "data": {
            "text/plain": [
              "<IPython.core.display.HTML object>"
            ],
            "text/html": [
              "<div style='font-family:monospace;'><div><span style='color:white;'>██</span><span style='color:white;'>██</span><span style='color:white;'>██</span><span style='color:white;'>██</span><span style='color:white;'>██</span><span style='color:white;'>██</span><span style='color:white;'>██</span><span style='color:white;'>██</span></div><div><span style='color:white;'>██</span><span style='color:blue;'>██</span><span style='color:blue;'>██</span><span style='color:blue;'>██</span><span style='color:magenta;'>██</span><span style='color:black;'>██</span><span style='color:green;'>██</span><span style='color:white;'>██</span></div><div><span style='color:white;'>██</span><span style='color:blue;'>██</span><span style='color:magenta;'>██</span><span style='color:magenta;'>██</span><span style='color:magenta;'>██</span><span style='color:green;'>██</span><span style='color:green;'>██</span><span style='color:white;'>██</span></div><div><span style='color:white;'>██</span><span style='color:blue;'>██</span><span style='color:magenta;'>██</span><span style='color:yellow;'>██</span><span style='color:yellow;'>██</span><span style='color:red;'>██</span><span style='color:green;'>██</span><span style='color:white;'>██</span></div><div><span style='color:white;'>██</span><span style='color:black;'>██</span><span style='color:yellow;'>██</span><span style='color:yellow;'>██</span><span style='color:red;'>██</span><span style='color:red;'>██</span><span style='color:red;'>██</span><span style='color:white;'>██</span></div><div><span style='color:white;'>██</span><span style='color:black;'>██</span><span style='color:black;'>██</span><span style='color:white;'>██</span><span style='color:white;'>██</span><span style='color:white;'>██</span><span style='color:white;'>██</span><span style='color:white;'>██</span></div></div><br>"
            ]
          },
          "metadata": {}
        },
        {
          "output_type": "display_data",
          "data": {
            "text/plain": [
              "<IPython.core.display.HTML object>"
            ],
            "text/html": [
              "<div style='font-family:monospace;'><div><span style='color:white;'>██</span><span style='color:white;'>██</span><span style='color:white;'>██</span><span style='color:white;'>██</span><span style='color:white;'>██</span><span style='color:white;'>██</span><span style='color:white;'>██</span><span style='color:white;'>██</span></div><div><span style='color:white;'>██</span><span style='color:blue;'>██</span><span style='color:blue;'>██</span><span style='color:blue;'>██</span><span style='color:magenta;'>██</span><span style='color:black;'>██</span><span style='color:black;'>██</span><span style='color:white;'>██</span></div><div><span style='color:white;'>██</span><span style='color:blue;'>██</span><span style='color:yellow;'>██</span><span style='color:yellow;'>██</span><span style='color:magenta;'>██</span><span style='color:magenta;'>██</span><span style='color:magenta;'>██</span><span style='color:white;'>██</span></div><div><span style='color:white;'>██</span><span style='color:blue;'>██</span><span style='color:green;'>██</span><span style='color:yellow;'>██</span><span style='color:yellow;'>██</span><span style='color:red;'>██</span><span style='color:magenta;'>██</span><span style='color:white;'>██</span></div><div><span style='color:white;'>██</span><span style='color:green;'>██</span><span style='color:green;'>██</span><span style='color:green;'>██</span><span style='color:red;'>██</span><span style='color:red;'>██</span><span style='color:red;'>██</span><span style='color:white;'>██</span></div><div><span style='color:white;'>██</span><span style='color:black;'>██</span><span style='color:black;'>██</span><span style='color:white;'>██</span><span style='color:white;'>██</span><span style='color:white;'>██</span><span style='color:white;'>██</span><span style='color:white;'>██</span></div></div><br>"
            ]
          },
          "metadata": {}
        },
        {
          "output_type": "display_data",
          "data": {
            "text/plain": [
              "<IPython.core.display.HTML object>"
            ],
            "text/html": [
              "<div style='font-family:monospace;'><div><span style='color:white;'>██</span><span style='color:white;'>██</span><span style='color:white;'>██</span><span style='color:white;'>██</span><span style='color:white;'>██</span><span style='color:white;'>██</span><span style='color:white;'>██</span><span style='color:white;'>██</span></div><div><span style='color:white;'>██</span><span style='color:magenta;'>██</span><span style='color:blue;'>██</span><span style='color:blue;'>██</span><span style='color:blue;'>██</span><span style='color:yellow;'>██</span><span style='color:black;'>██</span><span style='color:white;'>██</span></div><div><span style='color:white;'>██</span><span style='color:magenta;'>██</span><span style='color:magenta;'>██</span><span style='color:magenta;'>██</span><span style='color:blue;'>██</span><span style='color:yellow;'>██</span><span style='color:yellow;'>██</span><span style='color:white;'>██</span></div><div><span style='color:white;'>██</span><span style='color:black;'>██</span><span style='color:green;'>██</span><span style='color:magenta;'>██</span><span style='color:blue;'>██</span><span style='color:red;'>██</span><span style='color:yellow;'>██</span><span style='color:white;'>██</span></div><div><span style='color:white;'>██</span><span style='color:green;'>██</span><span style='color:green;'>██</span><span style='color:green;'>██</span><span style='color:red;'>██</span><span style='color:red;'>██</span><span style='color:red;'>██</span><span style='color:white;'>██</span></div><div><span style='color:white;'>██</span><span style='color:black;'>██</span><span style='color:black;'>██</span><span style='color:white;'>██</span><span style='color:white;'>██</span><span style='color:white;'>██</span><span style='color:white;'>██</span><span style='color:white;'>██</span></div></div><br>"
            ]
          },
          "metadata": {}
        },
        {
          "output_type": "display_data",
          "data": {
            "text/plain": [
              "<IPython.core.display.HTML object>"
            ],
            "text/html": [
              "<div style='font-family:monospace;'><div><span style='color:white;'>██</span><span style='color:white;'>██</span><span style='color:white;'>██</span><span style='color:white;'>██</span><span style='color:white;'>██</span><span style='color:white;'>██</span><span style='color:white;'>██</span><span style='color:white;'>██</span></div><div><span style='color:white;'>██</span><span style='color:black;'>██</span><span style='color:yellow;'>██</span><span style='color:blue;'>██</span><span style='color:blue;'>██</span><span style='color:blue;'>██</span><span style='color:magenta;'>██</span><span style='color:white;'>██</span></div><div><span style='color:white;'>██</span><span style='color:yellow;'>██</span><span style='color:yellow;'>██</span><span style='color:blue;'>██</span><span style='color:magenta;'>██</span><span style='color:magenta;'>██</span><span style='color:magenta;'>██</span><span style='color:white;'>██</span></div><div><span style='color:white;'>██</span><span style='color:yellow;'>██</span><span style='color:green;'>██</span><span style='color:blue;'>██</span><span style='color:magenta;'>██</span><span style='color:red;'>██</span><span style='color:black;'>██</span><span style='color:white;'>██</span></div><div><span style='color:white;'>██</span><span style='color:green;'>██</span><span style='color:green;'>██</span><span style='color:green;'>██</span><span style='color:red;'>██</span><span style='color:red;'>██</span><span style='color:red;'>██</span><span style='color:white;'>██</span></div><div><span style='color:white;'>██</span><span style='color:black;'>██</span><span style='color:black;'>██</span><span style='color:white;'>██</span><span style='color:white;'>██</span><span style='color:white;'>██</span><span style='color:white;'>██</span><span style='color:white;'>██</span></div></div><br>"
            ]
          },
          "metadata": {}
        },
        {
          "output_type": "display_data",
          "data": {
            "text/plain": [
              "<IPython.core.display.HTML object>"
            ],
            "text/html": [
              "<div style='font-family:monospace;'><div><span style='color:white;'>██</span><span style='color:white;'>██</span><span style='color:white;'>██</span><span style='color:white;'>██</span><span style='color:white;'>██</span><span style='color:white;'>██</span><span style='color:white;'>██</span><span style='color:white;'>██</span></div><div><span style='color:white;'>██</span><span style='color:black;'>██</span><span style='color:black;'>██</span><span style='color:magenta;'>██</span><span style='color:blue;'>██</span><span style='color:blue;'>██</span><span style='color:blue;'>██</span><span style='color:white;'>██</span></div><div><span style='color:white;'>██</span><span style='color:magenta;'>██</span><span style='color:magenta;'>██</span><span style='color:magenta;'>██</span><span style='color:yellow;'>██</span><span style='color:yellow;'>██</span><span style='color:blue;'>██</span><span style='color:white;'>██</span></div><div><span style='color:white;'>██</span><span style='color:magenta;'>██</span><span style='color:green;'>██</span><span style='color:yellow;'>██</span><span style='color:yellow;'>██</span><span style='color:red;'>██</span><span style='color:blue;'>██</span><span style='color:white;'>██</span></div><div><span style='color:white;'>██</span><span style='color:green;'>██</span><span style='color:green;'>██</span><span style='color:green;'>██</span><span style='color:red;'>██</span><span style='color:red;'>██</span><span style='color:red;'>██</span><span style='color:white;'>██</span></div><div><span style='color:white;'>██</span><span style='color:black;'>██</span><span style='color:black;'>██</span><span style='color:white;'>██</span><span style='color:white;'>██</span><span style='color:white;'>██</span><span style='color:white;'>██</span><span style='color:white;'>██</span></div></div><br>"
            ]
          },
          "metadata": {}
        },
        {
          "output_type": "stream",
          "name": "stdout",
          "text": [
            "Total number of arrangements: 52\n"
          ]
        }
      ]
    },
    {
      "cell_type": "code",
      "source": [],
      "metadata": {
        "id": "cMCo96dEjXh8"
      },
      "execution_count": null,
      "outputs": []
    },
    {
      "cell_type": "code",
      "source": [],
      "metadata": {
        "id": "8SGy9Gg5jTKX"
      },
      "execution_count": null,
      "outputs": []
    },
    {
      "cell_type": "code",
      "source": [],
      "metadata": {
        "id": "EfWxfYo8jSDL"
      },
      "execution_count": null,
      "outputs": []
    }
  ]
}